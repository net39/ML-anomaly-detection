{
  "cells": [
    {
      "cell_type": "markdown",
      "metadata": {
        "id": "view-in-github",
        "colab_type": "text"
      },
      "source": [
        "<a href=\"https://colab.research.google.com/github/net39/ML-anomaly-detection/blob/main/P2_06_CNN2_vid.ipynb\" target=\"_parent\"><img src=\"https://colab.research.google.com/assets/colab-badge.svg\" alt=\"Open In Colab\"/></a>"
      ]
    },
    {
      "cell_type": "markdown",
      "metadata": {
        "id": "8IL8BnDV2QMP"
      },
      "source": [
        "CNN-LSTM Human Action Recognition Pipeline"
      ]
    },
    {
      "cell_type": "markdown",
      "metadata": {
        "id": "HllePnTtjhBJ"
      },
      "source": [
        "# Install Libraries and Google Access"
      ]
    },
    {
      "cell_type": "code",
      "execution_count": 2,
      "metadata": {
        "colab": {
          "base_uri": "https://localhost:8080/",
          "height": 90
        },
        "id": "4KdoWUkzjd5D",
        "outputId": "e058508c-17dc-4544-8ef0-f3013036dd43"
      },
      "outputs": [
        {
          "output_type": "stream",
          "name": "stdout",
          "text": [
            "Mounted at /content/drive\n"
          ]
        },
        {
          "output_type": "display_data",
          "data": {
            "text/plain": [
              "<IPython.core.display.HTML object>"
            ],
            "text/html": [
              "\n",
              "     <input type=\"file\" id=\"files-17eb4d10-730f-4603-9717-2700b7cced7b\" name=\"files[]\" multiple disabled\n",
              "        style=\"border:none\" />\n",
              "     <output id=\"result-17eb4d10-730f-4603-9717-2700b7cced7b\">\n",
              "      Upload widget is only available when the cell has been executed in the\n",
              "      current browser session. Please rerun this cell to enable.\n",
              "      </output>\n",
              "      <script>// Copyright 2017 Google LLC\n",
              "//\n",
              "// Licensed under the Apache License, Version 2.0 (the \"License\");\n",
              "// you may not use this file except in compliance with the License.\n",
              "// You may obtain a copy of the License at\n",
              "//\n",
              "//      http://www.apache.org/licenses/LICENSE-2.0\n",
              "//\n",
              "// Unless required by applicable law or agreed to in writing, software\n",
              "// distributed under the License is distributed on an \"AS IS\" BASIS,\n",
              "// WITHOUT WARRANTIES OR CONDITIONS OF ANY KIND, either express or implied.\n",
              "// See the License for the specific language governing permissions and\n",
              "// limitations under the License.\n",
              "\n",
              "/**\n",
              " * @fileoverview Helpers for google.colab Python module.\n",
              " */\n",
              "(function(scope) {\n",
              "function span(text, styleAttributes = {}) {\n",
              "  const element = document.createElement('span');\n",
              "  element.textContent = text;\n",
              "  for (const key of Object.keys(styleAttributes)) {\n",
              "    element.style[key] = styleAttributes[key];\n",
              "  }\n",
              "  return element;\n",
              "}\n",
              "\n",
              "// Max number of bytes which will be uploaded at a time.\n",
              "const MAX_PAYLOAD_SIZE = 100 * 1024;\n",
              "\n",
              "function _uploadFiles(inputId, outputId) {\n",
              "  const steps = uploadFilesStep(inputId, outputId);\n",
              "  const outputElement = document.getElementById(outputId);\n",
              "  // Cache steps on the outputElement to make it available for the next call\n",
              "  // to uploadFilesContinue from Python.\n",
              "  outputElement.steps = steps;\n",
              "\n",
              "  return _uploadFilesContinue(outputId);\n",
              "}\n",
              "\n",
              "// This is roughly an async generator (not supported in the browser yet),\n",
              "// where there are multiple asynchronous steps and the Python side is going\n",
              "// to poll for completion of each step.\n",
              "// This uses a Promise to block the python side on completion of each step,\n",
              "// then passes the result of the previous step as the input to the next step.\n",
              "function _uploadFilesContinue(outputId) {\n",
              "  const outputElement = document.getElementById(outputId);\n",
              "  const steps = outputElement.steps;\n",
              "\n",
              "  const next = steps.next(outputElement.lastPromiseValue);\n",
              "  return Promise.resolve(next.value.promise).then((value) => {\n",
              "    // Cache the last promise value to make it available to the next\n",
              "    // step of the generator.\n",
              "    outputElement.lastPromiseValue = value;\n",
              "    return next.value.response;\n",
              "  });\n",
              "}\n",
              "\n",
              "/**\n",
              " * Generator function which is called between each async step of the upload\n",
              " * process.\n",
              " * @param {string} inputId Element ID of the input file picker element.\n",
              " * @param {string} outputId Element ID of the output display.\n",
              " * @return {!Iterable<!Object>} Iterable of next steps.\n",
              " */\n",
              "function* uploadFilesStep(inputId, outputId) {\n",
              "  const inputElement = document.getElementById(inputId);\n",
              "  inputElement.disabled = false;\n",
              "\n",
              "  const outputElement = document.getElementById(outputId);\n",
              "  outputElement.innerHTML = '';\n",
              "\n",
              "  const pickedPromise = new Promise((resolve) => {\n",
              "    inputElement.addEventListener('change', (e) => {\n",
              "      resolve(e.target.files);\n",
              "    });\n",
              "  });\n",
              "\n",
              "  const cancel = document.createElement('button');\n",
              "  inputElement.parentElement.appendChild(cancel);\n",
              "  cancel.textContent = 'Cancel upload';\n",
              "  const cancelPromise = new Promise((resolve) => {\n",
              "    cancel.onclick = () => {\n",
              "      resolve(null);\n",
              "    };\n",
              "  });\n",
              "\n",
              "  // Wait for the user to pick the files.\n",
              "  const files = yield {\n",
              "    promise: Promise.race([pickedPromise, cancelPromise]),\n",
              "    response: {\n",
              "      action: 'starting',\n",
              "    }\n",
              "  };\n",
              "\n",
              "  cancel.remove();\n",
              "\n",
              "  // Disable the input element since further picks are not allowed.\n",
              "  inputElement.disabled = true;\n",
              "\n",
              "  if (!files) {\n",
              "    return {\n",
              "      response: {\n",
              "        action: 'complete',\n",
              "      }\n",
              "    };\n",
              "  }\n",
              "\n",
              "  for (const file of files) {\n",
              "    const li = document.createElement('li');\n",
              "    li.append(span(file.name, {fontWeight: 'bold'}));\n",
              "    li.append(span(\n",
              "        `(${file.type || 'n/a'}) - ${file.size} bytes, ` +\n",
              "        `last modified: ${\n",
              "            file.lastModifiedDate ? file.lastModifiedDate.toLocaleDateString() :\n",
              "                                    'n/a'} - `));\n",
              "    const percent = span('0% done');\n",
              "    li.appendChild(percent);\n",
              "\n",
              "    outputElement.appendChild(li);\n",
              "\n",
              "    const fileDataPromise = new Promise((resolve) => {\n",
              "      const reader = new FileReader();\n",
              "      reader.onload = (e) => {\n",
              "        resolve(e.target.result);\n",
              "      };\n",
              "      reader.readAsArrayBuffer(file);\n",
              "    });\n",
              "    // Wait for the data to be ready.\n",
              "    let fileData = yield {\n",
              "      promise: fileDataPromise,\n",
              "      response: {\n",
              "        action: 'continue',\n",
              "      }\n",
              "    };\n",
              "\n",
              "    // Use a chunked sending to avoid message size limits. See b/62115660.\n",
              "    let position = 0;\n",
              "    do {\n",
              "      const length = Math.min(fileData.byteLength - position, MAX_PAYLOAD_SIZE);\n",
              "      const chunk = new Uint8Array(fileData, position, length);\n",
              "      position += length;\n",
              "\n",
              "      const base64 = btoa(String.fromCharCode.apply(null, chunk));\n",
              "      yield {\n",
              "        response: {\n",
              "          action: 'append',\n",
              "          file: file.name,\n",
              "          data: base64,\n",
              "        },\n",
              "      };\n",
              "\n",
              "      let percentDone = fileData.byteLength === 0 ?\n",
              "          100 :\n",
              "          Math.round((position / fileData.byteLength) * 100);\n",
              "      percent.textContent = `${percentDone}% done`;\n",
              "\n",
              "    } while (position < fileData.byteLength);\n",
              "  }\n",
              "\n",
              "  // All done.\n",
              "  yield {\n",
              "    response: {\n",
              "      action: 'complete',\n",
              "    }\n",
              "  };\n",
              "}\n",
              "\n",
              "scope.google = scope.google || {};\n",
              "scope.google.colab = scope.google.colab || {};\n",
              "scope.google.colab._files = {\n",
              "  _uploadFiles,\n",
              "  _uploadFilesContinue,\n",
              "};\n",
              "})(self);\n",
              "</script> "
            ]
          },
          "metadata": {}
        },
        {
          "output_type": "stream",
          "name": "stdout",
          "text": [
            "Saving p2-anomaly-c4545180e308.json to p2-anomaly-c4545180e308.json\n"
          ]
        }
      ],
      "source": [
        "from google.colab import auth\n",
        "auth.authenticate_user()\n",
        "\n",
        "from google.colab import drive\n",
        "drive.mount('/content/drive')\n",
        "\n",
        "from google.colab import files\n",
        "files.upload()\n",
        "\n",
        "from google.cloud import storage\n",
        "import os\n",
        "os.environ['GOOGLE_APPLICATION_CREDENTIALS'] = '/content/p2-anomaly-c4545180e308.json'\n",
        "\n",
        "storage_client = storage.Client()\n",
        "bucket_name = 'p2-anomaly'\n",
        "bucket = storage_client.bucket(bucket_name)"
      ]
    },
    {
      "cell_type": "code",
      "execution_count": 3,
      "metadata": {
        "id": "9cQJ9mRsjjnL",
        "colab": {
          "base_uri": "https://localhost:8080/"
        },
        "outputId": "d4ec899c-8bfc-4aea-95c0-3e8b3840aaf2"
      },
      "outputs": [
        {
          "output_type": "stream",
          "name": "stdout",
          "text": [
            "Requirement already satisfied: scikit-learn in /usr/local/lib/python3.11/dist-packages (1.6.1)\n",
            "Requirement already satisfied: numpy>=1.19.5 in /usr/local/lib/python3.11/dist-packages (from scikit-learn) (2.0.2)\n",
            "Requirement already satisfied: scipy>=1.6.0 in /usr/local/lib/python3.11/dist-packages (from scikit-learn) (1.15.3)\n",
            "Requirement already satisfied: joblib>=1.2.0 in /usr/local/lib/python3.11/dist-packages (from scikit-learn) (1.5.1)\n",
            "Requirement already satisfied: threadpoolctl>=3.1.0 in /usr/local/lib/python3.11/dist-packages (from scikit-learn) (3.6.0)\n",
            "Requirement already satisfied: tqdm in /usr/local/lib/python3.11/dist-packages (4.67.1)\n",
            "Requirement already satisfied: pandas in /usr/local/lib/python3.11/dist-packages (2.2.2)\n",
            "Requirement already satisfied: numpy>=1.23.2 in /usr/local/lib/python3.11/dist-packages (from pandas) (2.0.2)\n",
            "Requirement already satisfied: python-dateutil>=2.8.2 in /usr/local/lib/python3.11/dist-packages (from pandas) (2.9.0.post0)\n",
            "Requirement already satisfied: pytz>=2020.1 in /usr/local/lib/python3.11/dist-packages (from pandas) (2025.2)\n",
            "Requirement already satisfied: tzdata>=2022.7 in /usr/local/lib/python3.11/dist-packages (from pandas) (2025.2)\n",
            "Requirement already satisfied: six>=1.5 in /usr/local/lib/python3.11/dist-packages (from python-dateutil>=2.8.2->pandas) (1.17.0)\n"
          ]
        }
      ],
      "source": [
        "# Install GCS and other dependencies\n",
        "!pip install google-cloud-storage --quiet\n",
        "!pip install opencv-python-headless --quiet\n",
        "!pip install joblib --quiet\n",
        "!pip install tensorflow --quiet\n",
        "!pip install scikit-learn\n",
        "!pip install tqdm\n",
        "!pip install pandas\n",
        "\n",
        "# Imports\n",
        "import os\n",
        "import cv2\n",
        "import numpy as np\n",
        "import pandas as pd\n",
        "import json\n",
        "import time\n",
        "import shutil\n",
        "from datetime import datetime\n",
        "from tqdm import tqdm\n",
        "import joblib\n",
        "\n",
        "from collections import defaultdict\n",
        "from tensorflow.keras.applications import VGG19\n",
        "from tensorflow.keras.applications.vgg19 import preprocess_input\n",
        "from tensorflow.keras.models import Model, Sequential, load_model\n",
        "from tensorflow.keras.layers import Dense, LSTM, TimeDistributed, Flatten, Dropout, GlobalAveragePooling2D\n",
        "from tensorflow.keras.optimizers import Adam\n",
        "\n",
        "from sklearn.model_selection import train_test_split\n",
        "from sklearn.preprocessing import LabelEncoder, OneHotEncoder\n",
        "from sklearn.metrics import classification_report, confusion_matrix\n",
        "\n"
      ]
    },
    {
      "cell_type": "code",
      "execution_count": 4,
      "metadata": {
        "id": "IE0LXXpA4Mpk"
      },
      "outputs": [],
      "source": [
        "# Hyperparameters\n",
        "IMG_SIZE = (224, 224)\n",
        "IMG_CHANNELS = 3\n",
        "SEQUENCE_LENGTH = 5\n",
        "BATCH_SIZE = 16\n",
        "EPOCHS = 20"
      ]
    },
    {
      "cell_type": "code",
      "execution_count": 5,
      "metadata": {
        "colab": {
          "base_uri": "https://localhost:8080/"
        },
        "id": "fFmxB1Z34n-S",
        "outputId": "45edd69c-0e3c-4e87-da31-acc9ed0fa2b3"
      },
      "outputs": [
        {
          "output_type": "stream",
          "name": "stdout",
          "text": [
            "Downloaded frame_labels.csv from GCS.\n"
          ]
        }
      ],
      "source": [
        "if not os.path.exists('/content/frame_labels.csv'):\n",
        "    blob = bucket.blob('processed/frame_labels.csv')\n",
        "    blob.download_to_filename('/content/frame_labels.csv')\n",
        "    print(\"Downloaded frame_labels.csv from GCS.\")\n",
        "else:\n",
        "    print(\"frame_labels.csv already exists locally.\")\n",
        "\n",
        "# Load Labels CSV\n",
        "label_df = pd.read_csv('/content/frame_labels.csv')\n",
        "unique_actions = label_df['action'].unique()\n",
        "\n",
        "# Encode Labels\n",
        "label_encoder = LabelEncoder()\n",
        "integer_encoded = label_encoder.fit_transform(label_df['action'])\n",
        "onehot_encoder = OneHotEncoder(sparse_output=False)\n",
        "onehot_encoded = onehot_encoder.fit_transform(integer_encoded.reshape(-1, 1))\n"
      ]
    },
    {
      "cell_type": "code",
      "execution_count": 6,
      "metadata": {
        "id": "V0mb6QRv5IhS",
        "colab": {
          "base_uri": "https://localhost:8080/"
        },
        "outputId": "d56ad6bb-002e-444f-9868-45bdd47a0793"
      },
      "outputs": [
        {
          "output_type": "stream",
          "name": "stdout",
          "text": [
            "Downloaded all preprocessed frames from GCS.\n"
          ]
        }
      ],
      "source": [
        "image_dir = '/content/preprocessed-mcfd/'\n",
        "\n",
        "# Check and download images if folder doesn't exist\n",
        "if not os.path.exists(image_dir):\n",
        "    os.makedirs(image_dir, exist_ok=True)\n",
        "    blobs = bucket.list_blobs(prefix='processed/preprocessed-mcfd/')\n",
        "    for blob in blobs:\n",
        "        if blob.name.endswith(('.jpg', '.png')):\n",
        "            local_path = os.path.join('/content', blob.name.split('processed/')[1])\n",
        "            os.makedirs(os.path.dirname(local_path), exist_ok=True)\n",
        "            blob.download_to_filename(local_path)\n",
        "    print(\"Downloaded all preprocessed frames from GCS.\")\n",
        "else:\n",
        "    print(\"Preprocessed-mcfd folder already exists locally.\")\n"
      ]
    },
    {
      "cell_type": "code",
      "source": [
        "# Load Images and Labels\n",
        "image_dir = '/content/preprocessed-mcfd/'  # local path after downloading from GCS\n",
        "X = []\n",
        "Y = []\n",
        "\n",
        "missing_count = 0\n",
        "for idx, row in tqdm(label_df.iterrows(), total=label_df.shape[0]):\n",
        "    img_path = os.path.join('/content', row['filename'].replace('processed/', ''))\n",
        "    if os.path.exists(img_path):\n",
        "        img = cv2.imread(img_path)\n",
        "        img = cv2.resize(img, IMG_SIZE)\n",
        "        X.append(img)\n",
        "        Y.append(onehot_encoded[idx])\n",
        "    else:\n",
        "        missing_count += 1\n",
        "\n",
        "print(f\"Total missing images: {missing_count}\")\n",
        "\n",
        "X = np.array(X)\n",
        "Y = np.array(Y)\n"
      ],
      "metadata": {
        "id": "KqC9g_5KYIqc",
        "outputId": "2325b4a6-78bb-4ff7-ba41-370807924b31",
        "colab": {
          "base_uri": "https://localhost:8080/"
        }
      },
      "execution_count": 7,
      "outputs": [
        {
          "output_type": "stream",
          "name": "stderr",
          "text": [
            "100%|██████████| 1000/1000 [00:00<00:00, 1221.39it/s]"
          ]
        },
        {
          "output_type": "stream",
          "name": "stdout",
          "text": [
            "Total missing images: 0\n"
          ]
        },
        {
          "output_type": "stream",
          "name": "stderr",
          "text": [
            "\n"
          ]
        }
      ]
    },
    {
      "cell_type": "code",
      "source": [
        "print(f\"Total images loaded: {len(X)}\")\n",
        "print(f\"Total labels loaded: {len(Y)}\")\n",
        "print(f\"Unique actions: {unique_actions}\")"
      ],
      "metadata": {
        "colab": {
          "base_uri": "https://localhost:8080/"
        },
        "id": "A7kNhcAqz9Ta",
        "outputId": "fe35d157-5a9e-437a-9868-7ab0ff3534a9"
      },
      "execution_count": 8,
      "outputs": [
        {
          "output_type": "stream",
          "name": "stdout",
          "text": [
            "Total images loaded: 1000\n",
            "Total labels loaded: 1000\n",
            "Unique actions: ['walking' 'empty_room' 'bending' 'lying_down' 'fallen' 'sitting'\n",
            " 'standing' 'crouch_down' 'kneeling' 'unidentified' 'carry_item'\n",
            " 'housekeeping' 'gathering' 'occlusion' 'sleeping' 'using_laptop'\n",
            " 'crawling']\n"
          ]
        }
      ]
    },
    {
      "cell_type": "code",
      "source": [
        "import glob\n",
        "\n",
        "image_files = glob.glob('/content/preprocessed-mcfd/**/*.jpg', recursive=True)\n",
        "print(f\"Total images in local preprocessed-mcfd/: {len(image_files)}\")"
      ],
      "metadata": {
        "colab": {
          "base_uri": "https://localhost:8080/"
        },
        "id": "E3GN2UUG6R6J",
        "outputId": "b63a93bf-bb98-4380-9f9d-29226ae69f93"
      },
      "execution_count": 9,
      "outputs": [
        {
          "output_type": "stream",
          "name": "stdout",
          "text": [
            "Total images in local preprocessed-mcfd/: 8795\n"
          ]
        }
      ]
    },
    {
      "cell_type": "code",
      "source": [
        "label_counts = np.sum(Y, axis=0)\n",
        "for label, count in zip(label_encoder.classes_, label_counts):\n",
        "    print(f\"{label}: {count}\")"
      ],
      "metadata": {
        "colab": {
          "base_uri": "https://localhost:8080/"
        },
        "id": "B19jl1GE6sPq",
        "outputId": "1dc3fffd-a40b-4d24-9778-94a97134f855"
      },
      "execution_count": 10,
      "outputs": [
        {
          "output_type": "stream",
          "name": "stdout",
          "text": [
            "bending: 30.0\n",
            "carry_item: 15.0\n",
            "crawling: 1.0\n",
            "crouch_down: 38.0\n",
            "empty_room: 245.0\n",
            "fallen: 202.0\n",
            "gathering: 15.0\n",
            "housekeeping: 36.0\n",
            "kneeling: 13.0\n",
            "lying_down: 17.0\n",
            "occlusion: 10.0\n",
            "sitting: 70.0\n",
            "sleeping: 4.0\n",
            "standing: 132.0\n",
            "unidentified: 14.0\n",
            "using_laptop: 1.0\n",
            "walking: 157.0\n"
          ]
        }
      ]
    },
    {
      "cell_type": "code",
      "source": [
        "min_count = 2\n",
        "valid_class_indices = [i for i, c in enumerate(label_counts) if c >= min_count]\n",
        "print(\"Valid classes:\", [label_encoder.classes_[i] for i in valid_class_indices])\n"
      ],
      "metadata": {
        "colab": {
          "base_uri": "https://localhost:8080/"
        },
        "id": "OGdOKKJt630c",
        "outputId": "3fc6ed6d-14a5-43a4-fdda-6299a44512cc"
      },
      "execution_count": 15,
      "outputs": [
        {
          "output_type": "stream",
          "name": "stdout",
          "text": [
            "Valid classes: ['bending', 'carry_item', 'crouch_down', 'empty_room', 'fallen', 'gathering', 'housekeeping', 'kneeling', 'lying_down', 'occlusion', 'sitting', 'sleeping', 'standing', 'unidentified', 'walking']\n"
          ]
        }
      ]
    },
    {
      "cell_type": "code",
      "source": [
        "X_filtered = []\n",
        "Y_filtered = []\n",
        "\n",
        "for i in range(len(Y)):\n",
        "    if any(Y[i][j] == 1 and j in valid_class_indices for j in range(len(Y[i]))):\n",
        "        filtered_label = Y[i][valid_class_indices]\n",
        "        X_filtered.append(X[i])\n",
        "        Y_filtered.append(filtered_label)\n",
        "\n",
        "X = np.array(X_filtered)\n",
        "Y = np.array(Y_filtered)"
      ],
      "metadata": {
        "id": "HqzMh2rV72yQ"
      },
      "execution_count": 16,
      "outputs": []
    },
    {
      "cell_type": "code",
      "source": [
        "min_count = 2\n",
        "mask = np.sum(Y, axis=1).astype(bool)\n",
        "counts = np.sum(Y, axis=0)\n",
        "valid_classes = [i for i, c in enumerate(counts) if c >= min_count]\n",
        "\n",
        "label_counts_filtered = np.sum(Y, axis=0)\n",
        "for label, count in zip(valid_classes, label_counts_filtered):\n",
        "    print(f\"{label}: {count:.1f}\")\n",
        "\n",
        "print(f\"\\n New total images: {len(X)}\")\n",
        "print(f\" New total labels: {len(Y)}\")"
      ],
      "metadata": {
        "colab": {
          "base_uri": "https://localhost:8080/"
        },
        "id": "4RRuKDfD6-te",
        "outputId": "65906806-1a4f-49bd-fbbb-1a7eeb695f4c"
      },
      "execution_count": 18,
      "outputs": [
        {
          "output_type": "stream",
          "name": "stdout",
          "text": [
            "0: 30.0\n",
            "1: 15.0\n",
            "2: 38.0\n",
            "3: 245.0\n",
            "4: 202.0\n",
            "5: 15.0\n",
            "6: 36.0\n",
            "7: 13.0\n",
            "8: 17.0\n",
            "9: 10.0\n",
            "10: 70.0\n",
            "11: 4.0\n",
            "12: 132.0\n",
            "13: 14.0\n",
            "14: 157.0\n",
            "\n",
            " New total images: 998\n",
            " New total labels: 998\n"
          ]
        }
      ]
    },
    {
      "cell_type": "markdown",
      "source": [
        "In GCS CLI - gsutil ls gs://p2-anomaly/processed/preprocessed-mcfd/** | wc -l\n",
        "there are **8795 images in total across all chutes and cams**.\n",
        "\n",
        "Only 1000 of them are annotated in frame_labels.csv and the rest are unlabelled\n",
        "\n"
      ],
      "metadata": {
        "id": "9qGsZbBY52Lg"
      }
    },
    {
      "cell_type": "code",
      "execution_count": 41,
      "metadata": {
        "colab": {
          "base_uri": "https://localhost:8080/"
        },
        "id": "uZkApve95FGM",
        "outputId": "1f85db1f-09d8-4210-918f-ef5eecedc0a9"
      },
      "outputs": [
        {
          "output_type": "stream",
          "name": "stdout",
          "text": [
            "Class counts in Y_temp before second split:\n",
            "Class 0: 9.0\n",
            "Class 1: 4.0\n",
            "Class 2: 11.0\n",
            "Class 3: 74.0\n",
            "Class 4: 61.0\n",
            "Class 5: 5.0\n",
            "Class 6: 11.0\n",
            "Class 7: 4.0\n",
            "Class 8: 5.0\n",
            "Class 9: 3.0\n",
            "Class 10: 21.0\n",
            "Class 11: 1.0\n",
            "Class 12: 40.0\n",
            "Class 13: 4.0\n",
            "Class 14: 47.0\n",
            "\n",
            " Train set: 698, Val set: 149, Test set: 150\n"
          ]
        }
      ],
      "source": [
        "# Train-Validation-Test Split\n",
        "\n",
        "# First split\n",
        "X_train, X_temp, Y_train, Y_temp = train_test_split(X, Y, test_size=0.3, random_state=42, stratify=Y)\n",
        "\n",
        "# Check class counts in Y_temp\n",
        "temp_label_counts = np.sum(Y_temp, axis=0)\n",
        "print(\"Class counts in Y_temp before second split:\")\n",
        "for i, count in enumerate(temp_label_counts):\n",
        "    print(f\"Class {i}: {count}\")\n",
        "\n",
        "\n",
        "# Filter out classes with only one sample in Y_temp for the second split\n",
        "valid_temp_classes_indices = [i for i, count in enumerate(temp_label_counts) if count >= 2]\n",
        "\n",
        "X_temp_filtered = []\n",
        "Y_temp_filtered = []\n",
        "\n",
        "# This filtering assumes Y_temp is already one-hot encoded\n",
        "for i in range(len(Y_temp)):\n",
        "    # Check if the sample belongs to any of the valid temp classes\n",
        "    if any(Y_temp[i][j] == 1 for j in valid_temp_classes_indices):\n",
        "        # Create a new one-hot encoded vector with only the valid classes\n",
        "        # We need to map the original class indices to the new filtered indices\n",
        "        original_class_index = np.argmax(Y_temp[i])\n",
        "        if original_class_index in valid_temp_classes_indices:\n",
        "            X_temp_filtered.append(X_temp[i])\n",
        "            # Create a new one-hot vector for the filtered classes\n",
        "            filtered_onehot = np.zeros(len(valid_temp_classes_indices))\n",
        "            new_index = valid_temp_classes_indices.index(original_class_index)\n",
        "            filtered_onehot[new_index] = 1\n",
        "            Y_temp_filtered.append(filtered_onehot)\n",
        "\n",
        "X_temp_filtered = np.array(X_temp_filtered)\n",
        "Y_temp_filtered = np.array(Y_temp_filtered)\n",
        "\n",
        "\n",
        "# Second split with filtered data\n",
        "X_val, X_test, Y_val, Y_test = train_test_split(X_temp_filtered, Y_temp_filtered, test_size=0.5, random_state=42, stratify=Y_temp_filtered)\n",
        "\n",
        "\n",
        "print(f\"\\n Train set: {len(X_train)}, Val set: {len(X_val)}, Test set: {len(X_test)}\")"
      ]
    },
    {
      "cell_type": "code",
      "source": [
        "print(\"Train classes:\", Y_train.shape[1])\n",
        "print(\"Val classes:\", Y_val.shape[1])"
      ],
      "metadata": {
        "colab": {
          "base_uri": "https://localhost:8080/"
        },
        "id": "mufi0PkwS9XT",
        "outputId": "ed834d48-2ead-4034-e08a-85f5ce680c9d"
      },
      "execution_count": 42,
      "outputs": [
        {
          "output_type": "stream",
          "name": "stdout",
          "text": [
            "Train classes: 15\n",
            "Val classes: 14\n"
          ]
        }
      ]
    },
    {
      "cell_type": "code",
      "source": [
        "def pad_labels(Y, target_size):\n",
        "    padded_Y = np.zeros((Y.shape[0], target_size))\n",
        "    padded_Y[:, :Y.shape[1]] = Y\n",
        "    return padded_Y\n",
        "\n",
        "Y_val = pad_labels(Y_val, Y_train.shape[1])\n",
        "Y_test = pad_labels(Y_test, Y_train.shape[1])"
      ],
      "metadata": {
        "id": "-sk43TdTTFDt"
      },
      "execution_count": 43,
      "outputs": []
    },
    {
      "cell_type": "code",
      "execution_count": 44,
      "metadata": {
        "id": "CyfjDgkP5BNn",
        "colab": {
          "base_uri": "https://localhost:8080/",
          "height": 344
        },
        "outputId": "1ef9581c-65e0-4c52-b901-9e5c2a45a3dd"
      },
      "outputs": [
        {
          "output_type": "stream",
          "name": "stderr",
          "text": [
            "/usr/local/lib/python3.11/dist-packages/keras/src/layers/core/wrapper.py:27: UserWarning: Do not pass an `input_shape`/`input_dim` argument to a layer. When using Sequential models, prefer using an `Input(shape)` object as the first layer in the model instead.\n",
            "  super().__init__(**kwargs)\n"
          ]
        },
        {
          "output_type": "display_data",
          "data": {
            "text/plain": [
              "\u001b[1mModel: \"sequential_11\"\u001b[0m\n"
            ],
            "text/html": [
              "<pre style=\"white-space:pre;overflow-x:auto;line-height:normal;font-family:Menlo,'DejaVu Sans Mono',consolas,'Courier New',monospace\"><span style=\"font-weight: bold\">Model: \"sequential_11\"</span>\n",
              "</pre>\n"
            ]
          },
          "metadata": {}
        },
        {
          "output_type": "display_data",
          "data": {
            "text/plain": [
              "┏━━━━━━━━━━━━━━━━━━━━━━━━━━━━━━━━━┳━━━━━━━━━━━━━━━━━━━━━━━━┳━━━━━━━━━━━━━━━┓\n",
              "┃\u001b[1m \u001b[0m\u001b[1mLayer (type)                   \u001b[0m\u001b[1m \u001b[0m┃\u001b[1m \u001b[0m\u001b[1mOutput Shape          \u001b[0m\u001b[1m \u001b[0m┃\u001b[1m \u001b[0m\u001b[1m      Param #\u001b[0m\u001b[1m \u001b[0m┃\n",
              "┡━━━━━━━━━━━━━━━━━━━━━━━━━━━━━━━━━╇━━━━━━━━━━━━━━━━━━━━━━━━╇━━━━━━━━━━━━━━━┩\n",
              "│ time_distributed_5              │ (\u001b[38;5;45mNone\u001b[0m, \u001b[38;5;34m5\u001b[0m, \u001b[38;5;34m512\u001b[0m)         │    \u001b[38;5;34m20,024,384\u001b[0m │\n",
              "│ (\u001b[38;5;33mTimeDistributed\u001b[0m)               │                        │               │\n",
              "├─────────────────────────────────┼────────────────────────┼───────────────┤\n",
              "│ lstm_5 (\u001b[38;5;33mLSTM\u001b[0m)                   │ (\u001b[38;5;45mNone\u001b[0m, \u001b[38;5;34m128\u001b[0m)            │       \u001b[38;5;34m328,192\u001b[0m │\n",
              "├─────────────────────────────────┼────────────────────────┼───────────────┤\n",
              "│ dropout_5 (\u001b[38;5;33mDropout\u001b[0m)             │ (\u001b[38;5;45mNone\u001b[0m, \u001b[38;5;34m128\u001b[0m)            │             \u001b[38;5;34m0\u001b[0m │\n",
              "├─────────────────────────────────┼────────────────────────┼───────────────┤\n",
              "│ dense_5 (\u001b[38;5;33mDense\u001b[0m)                 │ (\u001b[38;5;45mNone\u001b[0m, \u001b[38;5;34m15\u001b[0m)             │         \u001b[38;5;34m1,935\u001b[0m │\n",
              "└─────────────────────────────────┴────────────────────────┴───────────────┘\n"
            ],
            "text/html": [
              "<pre style=\"white-space:pre;overflow-x:auto;line-height:normal;font-family:Menlo,'DejaVu Sans Mono',consolas,'Courier New',monospace\">┏━━━━━━━━━━━━━━━━━━━━━━━━━━━━━━━━━┳━━━━━━━━━━━━━━━━━━━━━━━━┳━━━━━━━━━━━━━━━┓\n",
              "┃<span style=\"font-weight: bold\"> Layer (type)                    </span>┃<span style=\"font-weight: bold\"> Output Shape           </span>┃<span style=\"font-weight: bold\">       Param # </span>┃\n",
              "┡━━━━━━━━━━━━━━━━━━━━━━━━━━━━━━━━━╇━━━━━━━━━━━━━━━━━━━━━━━━╇━━━━━━━━━━━━━━━┩\n",
              "│ time_distributed_5              │ (<span style=\"color: #00d7ff; text-decoration-color: #00d7ff\">None</span>, <span style=\"color: #00af00; text-decoration-color: #00af00\">5</span>, <span style=\"color: #00af00; text-decoration-color: #00af00\">512</span>)         │    <span style=\"color: #00af00; text-decoration-color: #00af00\">20,024,384</span> │\n",
              "│ (<span style=\"color: #0087ff; text-decoration-color: #0087ff\">TimeDistributed</span>)               │                        │               │\n",
              "├─────────────────────────────────┼────────────────────────┼───────────────┤\n",
              "│ lstm_5 (<span style=\"color: #0087ff; text-decoration-color: #0087ff\">LSTM</span>)                   │ (<span style=\"color: #00d7ff; text-decoration-color: #00d7ff\">None</span>, <span style=\"color: #00af00; text-decoration-color: #00af00\">128</span>)            │       <span style=\"color: #00af00; text-decoration-color: #00af00\">328,192</span> │\n",
              "├─────────────────────────────────┼────────────────────────┼───────────────┤\n",
              "│ dropout_5 (<span style=\"color: #0087ff; text-decoration-color: #0087ff\">Dropout</span>)             │ (<span style=\"color: #00d7ff; text-decoration-color: #00d7ff\">None</span>, <span style=\"color: #00af00; text-decoration-color: #00af00\">128</span>)            │             <span style=\"color: #00af00; text-decoration-color: #00af00\">0</span> │\n",
              "├─────────────────────────────────┼────────────────────────┼───────────────┤\n",
              "│ dense_5 (<span style=\"color: #0087ff; text-decoration-color: #0087ff\">Dense</span>)                 │ (<span style=\"color: #00d7ff; text-decoration-color: #00d7ff\">None</span>, <span style=\"color: #00af00; text-decoration-color: #00af00\">15</span>)             │         <span style=\"color: #00af00; text-decoration-color: #00af00\">1,935</span> │\n",
              "└─────────────────────────────────┴────────────────────────┴───────────────┘\n",
              "</pre>\n"
            ]
          },
          "metadata": {}
        },
        {
          "output_type": "display_data",
          "data": {
            "text/plain": [
              "\u001b[1m Total params: \u001b[0m\u001b[38;5;34m20,354,511\u001b[0m (77.65 MB)\n"
            ],
            "text/html": [
              "<pre style=\"white-space:pre;overflow-x:auto;line-height:normal;font-family:Menlo,'DejaVu Sans Mono',consolas,'Courier New',monospace\"><span style=\"font-weight: bold\"> Total params: </span><span style=\"color: #00af00; text-decoration-color: #00af00\">20,354,511</span> (77.65 MB)\n",
              "</pre>\n"
            ]
          },
          "metadata": {}
        },
        {
          "output_type": "display_data",
          "data": {
            "text/plain": [
              "\u001b[1m Trainable params: \u001b[0m\u001b[38;5;34m330,127\u001b[0m (1.26 MB)\n"
            ],
            "text/html": [
              "<pre style=\"white-space:pre;overflow-x:auto;line-height:normal;font-family:Menlo,'DejaVu Sans Mono',consolas,'Courier New',monospace\"><span style=\"font-weight: bold\"> Trainable params: </span><span style=\"color: #00af00; text-decoration-color: #00af00\">330,127</span> (1.26 MB)\n",
              "</pre>\n"
            ]
          },
          "metadata": {}
        },
        {
          "output_type": "display_data",
          "data": {
            "text/plain": [
              "\u001b[1m Non-trainable params: \u001b[0m\u001b[38;5;34m20,024,384\u001b[0m (76.39 MB)\n"
            ],
            "text/html": [
              "<pre style=\"white-space:pre;overflow-x:auto;line-height:normal;font-family:Menlo,'DejaVu Sans Mono',consolas,'Courier New',monospace\"><span style=\"font-weight: bold\"> Non-trainable params: </span><span style=\"color: #00af00; text-decoration-color: #00af00\">20,024,384</span> (76.39 MB)\n",
              "</pre>\n"
            ]
          },
          "metadata": {}
        }
      ],
      "source": [
        "# Build CNN-LSTM Model\n",
        "base_cnn = VGG19(weights='imagenet', include_top=False, input_shape=(224, 224, 3))\n",
        "for layer in base_cnn.layers:\n",
        "    layer.trainable = False\n",
        "\n",
        "cnn_model = Sequential([\n",
        "    base_cnn,\n",
        "    GlobalAveragePooling2D()\n",
        "])\n",
        "\n",
        "# Get the number of valid classes after filtering\n",
        "num_valid_classes = Y_train_seq.shape[-1]\n",
        "\n",
        "model = Sequential([\n",
        "    TimeDistributed(cnn_model, input_shape=(SEQUENCE_LENGTH, 224, 224, 3)),\n",
        "    LSTM(128, return_sequences=False),\n",
        "    Dropout(0.5),\n",
        "    Dense(len(valid_class_indices), activation='softmax')\n",
        "    #Dense(Y_train_seq.shape[-1], activation='softmax'\n",
        "])\n",
        "\n",
        "model.compile(optimizer=Adam(1e-4), loss='categorical_crossentropy', metrics=['accuracy'])\n",
        "model.summary()\n"
      ]
    },
    {
      "cell_type": "code",
      "execution_count": 45,
      "metadata": {
        "id": "AV-T5uez4_6w"
      },
      "outputs": [],
      "source": [
        "\n",
        "# Prepare Sequences for LSTM - group consecutive frames into sequences\n",
        "def create_sequences(X, Y, seq_length):\n",
        "    X_seq, Y_seq = [], []\n",
        "    for i in range(len(X) - seq_length):\n",
        "        X_seq.append(X[i:i+seq_length])\n",
        "        Y_seq.append(Y[i+seq_length-1])\n",
        "    return np.array(X_seq), np.array(Y_seq)\n",
        "\n",
        "X_train_seq, Y_train_seq = create_sequences(X_train, Y_train, SEQUENCE_LENGTH)\n",
        "X_val_seq, Y_val_seq = create_sequences(X_val, Y_val, SEQUENCE_LENGTH)\n",
        "\n"
      ]
    },
    {
      "cell_type": "code",
      "source": [
        "train_counts = np.sum(Y_train_seq, axis=0)\n",
        "for i, c in enumerate(train_counts):\n",
        "    print(f\"{new_classes[i]}: {c}\")"
      ],
      "metadata": {
        "colab": {
          "base_uri": "https://localhost:8080/"
        },
        "id": "g5Fh4JixXmP8",
        "outputId": "4c283f01-9275-428f-dda8-ca77e87b4240"
      },
      "execution_count": 60,
      "outputs": [
        {
          "output_type": "stream",
          "name": "stdout",
          "text": [
            "bending: 21.0\n",
            "carry_item: 11.0\n",
            "crouch_down: 27.0\n",
            "empty_room: 169.0\n",
            "fallen: 140.0\n",
            "gathering: 10.0\n",
            "housekeeping: 25.0\n",
            "kneeling: 9.0\n",
            "lying_down: 12.0\n",
            "occlusion: 7.0\n",
            "sitting: 49.0\n",
            "sleeping: 3.0\n",
            "standing: 90.0\n",
            "unidentified: 10.0\n",
            "walking: 110.0\n"
          ]
        }
      ]
    },
    {
      "cell_type": "code",
      "source": [
        "def evaluate_model(model, X_test_seq, Y_test_seq, new_classes):\n",
        "    Y_pred = model.predict(X_test_seq)\n",
        "    Y_pred_labels = np.argmax(Y_pred, axis=1)\n",
        "    Y_true_labels = np.argmax(Y_test_seq, axis=1)\n",
        "\n",
        "    print(\"\\n Classification Report:\")\n",
        "    print(classification_report(Y_true_labels, Y_pred_labels, target_names=new_classes, zero_division=0))\n",
        "\n",
        "    cm = confusion_matrix(Y_true_labels, Y_pred_labels)\n",
        "    cm_df = pd.DataFrame(cm, index=new_classes, columns=new_classes)\n",
        "    print(\"\\n Confusion Matrix:\")\n",
        "    print(cm_df)"
      ],
      "metadata": {
        "id": "z80RwDpmX1vI"
      },
      "execution_count": 69,
      "outputs": []
    },
    {
      "cell_type": "code",
      "source": [
        "Y_train_labels = np.argmax(Y_train_seq, axis=1)\n",
        "\n",
        "from sklearn.utils import class_weight\n",
        "\n",
        "class_weights = class_weight.compute_class_weight(\n",
        "    'balanced',\n",
        "    classes=np.unique(Y_train_labels),\n",
        "    y=Y_train_labels\n",
        ")\n",
        "\n",
        "print(dict(enumerate(new_classes)))\n",
        "print(class_weights)"
      ],
      "metadata": {
        "colab": {
          "base_uri": "https://localhost:8080/"
        },
        "id": "9RJV1UDfX3Zt",
        "outputId": "3e40ad36-1faa-4d11-f793-0feaae1730ef"
      },
      "execution_count": 72,
      "outputs": [
        {
          "output_type": "stream",
          "name": "stdout",
          "text": [
            "{0: 'bending', 1: 'carry_item', 2: 'crouch_down', 3: 'empty_room', 4: 'fallen', 5: 'gathering', 6: 'housekeeping', 7: 'kneeling', 8: 'lying_down', 9: 'occlusion', 10: 'sitting', 11: 'sleeping', 12: 'standing', 13: 'unidentified', 14: 'walking'}\n",
            "[ 2.2         4.2         1.71111111  0.27337278  0.33        4.62\n",
            "  1.848       5.13333333  3.85        6.6         0.94285714 15.4\n",
            "  0.51333333  4.62        0.42      ]\n"
          ]
        }
      ]
    },
    {
      "cell_type": "code",
      "source": [
        "Y_train_labels = np.argmax(Y_train_seq, axis=1)\n",
        "Y_val_labels = np.argmax(Y_val_seq, axis=1)"
      ],
      "metadata": {
        "id": "-ac6iDw-Y20f"
      },
      "execution_count": 73,
      "outputs": []
    },
    {
      "cell_type": "code",
      "source": [
        "model.compile(optimizer=Adam(1e-4), loss='sparse_categorical_crossentropy', metrics=['accuracy'])\n",
        "model.summary()"
      ],
      "metadata": {
        "colab": {
          "base_uri": "https://localhost:8080/",
          "height": 289
        },
        "id": "QDZfh8mSZBLB",
        "outputId": "f0ad50ca-d72e-4594-bad0-ed5b0ce51ea0"
      },
      "execution_count": 74,
      "outputs": [
        {
          "output_type": "display_data",
          "data": {
            "text/plain": [
              "\u001b[1mModel: \"sequential_11\"\u001b[0m\n"
            ],
            "text/html": [
              "<pre style=\"white-space:pre;overflow-x:auto;line-height:normal;font-family:Menlo,'DejaVu Sans Mono',consolas,'Courier New',monospace\"><span style=\"font-weight: bold\">Model: \"sequential_11\"</span>\n",
              "</pre>\n"
            ]
          },
          "metadata": {}
        },
        {
          "output_type": "display_data",
          "data": {
            "text/plain": [
              "┏━━━━━━━━━━━━━━━━━━━━━━━━━━━━━━━━━┳━━━━━━━━━━━━━━━━━━━━━━━━┳━━━━━━━━━━━━━━━┓\n",
              "┃\u001b[1m \u001b[0m\u001b[1mLayer (type)                   \u001b[0m\u001b[1m \u001b[0m┃\u001b[1m \u001b[0m\u001b[1mOutput Shape          \u001b[0m\u001b[1m \u001b[0m┃\u001b[1m \u001b[0m\u001b[1m      Param #\u001b[0m\u001b[1m \u001b[0m┃\n",
              "┡━━━━━━━━━━━━━━━━━━━━━━━━━━━━━━━━━╇━━━━━━━━━━━━━━━━━━━━━━━━╇━━━━━━━━━━━━━━━┩\n",
              "│ time_distributed_5              │ (\u001b[38;5;45mNone\u001b[0m, \u001b[38;5;34m5\u001b[0m, \u001b[38;5;34m512\u001b[0m)         │    \u001b[38;5;34m20,024,384\u001b[0m │\n",
              "│ (\u001b[38;5;33mTimeDistributed\u001b[0m)               │                        │               │\n",
              "├─────────────────────────────────┼────────────────────────┼───────────────┤\n",
              "│ lstm_5 (\u001b[38;5;33mLSTM\u001b[0m)                   │ (\u001b[38;5;45mNone\u001b[0m, \u001b[38;5;34m128\u001b[0m)            │       \u001b[38;5;34m328,192\u001b[0m │\n",
              "├─────────────────────────────────┼────────────────────────┼───────────────┤\n",
              "│ dropout_5 (\u001b[38;5;33mDropout\u001b[0m)             │ (\u001b[38;5;45mNone\u001b[0m, \u001b[38;5;34m128\u001b[0m)            │             \u001b[38;5;34m0\u001b[0m │\n",
              "├─────────────────────────────────┼────────────────────────┼───────────────┤\n",
              "│ dense_5 (\u001b[38;5;33mDense\u001b[0m)                 │ (\u001b[38;5;45mNone\u001b[0m, \u001b[38;5;34m15\u001b[0m)             │         \u001b[38;5;34m1,935\u001b[0m │\n",
              "└─────────────────────────────────┴────────────────────────┴───────────────┘\n"
            ],
            "text/html": [
              "<pre style=\"white-space:pre;overflow-x:auto;line-height:normal;font-family:Menlo,'DejaVu Sans Mono',consolas,'Courier New',monospace\">┏━━━━━━━━━━━━━━━━━━━━━━━━━━━━━━━━━┳━━━━━━━━━━━━━━━━━━━━━━━━┳━━━━━━━━━━━━━━━┓\n",
              "┃<span style=\"font-weight: bold\"> Layer (type)                    </span>┃<span style=\"font-weight: bold\"> Output Shape           </span>┃<span style=\"font-weight: bold\">       Param # </span>┃\n",
              "┡━━━━━━━━━━━━━━━━━━━━━━━━━━━━━━━━━╇━━━━━━━━━━━━━━━━━━━━━━━━╇━━━━━━━━━━━━━━━┩\n",
              "│ time_distributed_5              │ (<span style=\"color: #00d7ff; text-decoration-color: #00d7ff\">None</span>, <span style=\"color: #00af00; text-decoration-color: #00af00\">5</span>, <span style=\"color: #00af00; text-decoration-color: #00af00\">512</span>)         │    <span style=\"color: #00af00; text-decoration-color: #00af00\">20,024,384</span> │\n",
              "│ (<span style=\"color: #0087ff; text-decoration-color: #0087ff\">TimeDistributed</span>)               │                        │               │\n",
              "├─────────────────────────────────┼────────────────────────┼───────────────┤\n",
              "│ lstm_5 (<span style=\"color: #0087ff; text-decoration-color: #0087ff\">LSTM</span>)                   │ (<span style=\"color: #00d7ff; text-decoration-color: #00d7ff\">None</span>, <span style=\"color: #00af00; text-decoration-color: #00af00\">128</span>)            │       <span style=\"color: #00af00; text-decoration-color: #00af00\">328,192</span> │\n",
              "├─────────────────────────────────┼────────────────────────┼───────────────┤\n",
              "│ dropout_5 (<span style=\"color: #0087ff; text-decoration-color: #0087ff\">Dropout</span>)             │ (<span style=\"color: #00d7ff; text-decoration-color: #00d7ff\">None</span>, <span style=\"color: #00af00; text-decoration-color: #00af00\">128</span>)            │             <span style=\"color: #00af00; text-decoration-color: #00af00\">0</span> │\n",
              "├─────────────────────────────────┼────────────────────────┼───────────────┤\n",
              "│ dense_5 (<span style=\"color: #0087ff; text-decoration-color: #0087ff\">Dense</span>)                 │ (<span style=\"color: #00d7ff; text-decoration-color: #00d7ff\">None</span>, <span style=\"color: #00af00; text-decoration-color: #00af00\">15</span>)             │         <span style=\"color: #00af00; text-decoration-color: #00af00\">1,935</span> │\n",
              "└─────────────────────────────────┴────────────────────────┴───────────────┘\n",
              "</pre>\n"
            ]
          },
          "metadata": {}
        },
        {
          "output_type": "display_data",
          "data": {
            "text/plain": [
              "\u001b[1m Total params: \u001b[0m\u001b[38;5;34m20,354,511\u001b[0m (77.65 MB)\n"
            ],
            "text/html": [
              "<pre style=\"white-space:pre;overflow-x:auto;line-height:normal;font-family:Menlo,'DejaVu Sans Mono',consolas,'Courier New',monospace\"><span style=\"font-weight: bold\"> Total params: </span><span style=\"color: #00af00; text-decoration-color: #00af00\">20,354,511</span> (77.65 MB)\n",
              "</pre>\n"
            ]
          },
          "metadata": {}
        },
        {
          "output_type": "display_data",
          "data": {
            "text/plain": [
              "\u001b[1m Trainable params: \u001b[0m\u001b[38;5;34m330,127\u001b[0m (1.26 MB)\n"
            ],
            "text/html": [
              "<pre style=\"white-space:pre;overflow-x:auto;line-height:normal;font-family:Menlo,'DejaVu Sans Mono',consolas,'Courier New',monospace\"><span style=\"font-weight: bold\"> Trainable params: </span><span style=\"color: #00af00; text-decoration-color: #00af00\">330,127</span> (1.26 MB)\n",
              "</pre>\n"
            ]
          },
          "metadata": {}
        },
        {
          "output_type": "display_data",
          "data": {
            "text/plain": [
              "\u001b[1m Non-trainable params: \u001b[0m\u001b[38;5;34m20,024,384\u001b[0m (76.39 MB)\n"
            ],
            "text/html": [
              "<pre style=\"white-space:pre;overflow-x:auto;line-height:normal;font-family:Menlo,'DejaVu Sans Mono',consolas,'Courier New',monospace\"><span style=\"font-weight: bold\"> Non-trainable params: </span><span style=\"color: #00af00; text-decoration-color: #00af00\">20,024,384</span> (76.39 MB)\n",
              "</pre>\n"
            ]
          },
          "metadata": {}
        }
      ]
    },
    {
      "cell_type": "code",
      "execution_count": 78,
      "metadata": {
        "id": "JkLtel8C46q1",
        "colab": {
          "base_uri": "https://localhost:8080/"
        },
        "outputId": "cd880b48-197f-4b61-b4cd-134a4023ebc7"
      },
      "outputs": [
        {
          "output_type": "stream",
          "name": "stdout",
          "text": [
            "Epoch 1/20\n",
            "\u001b[1m43/44\u001b[0m \u001b[32m━━━━━━━━━━━━━━━━━━━\u001b[0m\u001b[37m━\u001b[0m \u001b[1m0s\u001b[0m 63ms/step - accuracy: 0.2382 - loss: 3.4190"
          ]
        },
        {
          "output_type": "stream",
          "name": "stderr",
          "text": [
            "WARNING:absl:You are saving your model as an HDF5 file via `model.save()` or `keras.saving.save_model(model)`. This file format is considered legacy. We recommend using instead the native Keras format, e.g. `model.save('my_model.keras')` or `keras.saving.save_model(model, 'my_model.keras')`. \n"
          ]
        },
        {
          "output_type": "stream",
          "name": "stdout",
          "text": [
            "\b\b\b\b\b\b\b\b\b\b\b\b\b\b\b\b\b\b\b\b\b\b\b\b\b\b\b\b\b\b\b\b\b\b\b\b\b\b\b\b\b\b\b\b\b\b\b\b\b\b\b\b\b\b\b\b\b\b\b\b\b\b\b\b\b\b\b\b\b\b\b\b\b\r\u001b[1m44/44\u001b[0m \u001b[32m━━━━━━━━━━━━━━━━━━━━\u001b[0m\u001b[37m\u001b[0m \u001b[1m9s\u001b[0m 115ms/step - accuracy: 0.2383 - loss: 3.3993 - val_accuracy: 0.2292 - val_loss: 2.6087\n",
            "Epoch 2/20\n",
            "\u001b[1m44/44\u001b[0m \u001b[32m━━━━━━━━━━━━━━━━━━━━\u001b[0m\u001b[37m\u001b[0m \u001b[1m3s\u001b[0m 76ms/step - accuracy: 0.2104 - loss: 2.6967 - val_accuracy: 0.2569 - val_loss: 2.6225\n",
            "Epoch 3/20\n",
            "\u001b[1m43/44\u001b[0m \u001b[32m━━━━━━━━━━━━━━━━━━━\u001b[0m\u001b[37m━\u001b[0m \u001b[1m0s\u001b[0m 66ms/step - accuracy: 0.2120 - loss: 2.5578"
          ]
        },
        {
          "output_type": "stream",
          "name": "stderr",
          "text": [
            "WARNING:absl:You are saving your model as an HDF5 file via `model.save()` or `keras.saving.save_model(model)`. This file format is considered legacy. We recommend using instead the native Keras format, e.g. `model.save('my_model.keras')` or `keras.saving.save_model(model, 'my_model.keras')`. \n"
          ]
        },
        {
          "output_type": "stream",
          "name": "stdout",
          "text": [
            "\b\b\b\b\b\b\b\b\b\b\b\b\b\b\b\b\b\b\b\b\b\b\b\b\b\b\b\b\b\b\b\b\b\b\b\b\b\b\b\b\b\b\b\b\b\b\b\b\b\b\b\b\b\b\b\b\b\b\b\b\b\b\b\b\b\b\b\b\b\b\b\b\b\r\u001b[1m44/44\u001b[0m \u001b[32m━━━━━━━━━━━━━━━━━━━━\u001b[0m\u001b[37m\u001b[0m \u001b[1m4s\u001b[0m 87ms/step - accuracy: 0.2116 - loss: 2.5601 - val_accuracy: 0.2222 - val_loss: 2.6081\n",
            "Epoch 4/20\n",
            "\u001b[1m44/44\u001b[0m \u001b[32m━━━━━━━━━━━━━━━━━━━━\u001b[0m\u001b[37m\u001b[0m \u001b[1m0s\u001b[0m 63ms/step - accuracy: 0.1955 - loss: 2.4315"
          ]
        },
        {
          "output_type": "stream",
          "name": "stderr",
          "text": [
            "WARNING:absl:You are saving your model as an HDF5 file via `model.save()` or `keras.saving.save_model(model)`. This file format is considered legacy. We recommend using instead the native Keras format, e.g. `model.save('my_model.keras')` or `keras.saving.save_model(model, 'my_model.keras')`. \n"
          ]
        },
        {
          "output_type": "stream",
          "name": "stdout",
          "text": [
            "\b\b\b\b\b\b\b\b\b\b\b\b\b\b\b\b\b\b\b\b\b\b\b\b\b\b\b\b\b\b\b\b\b\b\b\b\b\b\b\b\b\b\b\b\b\b\b\b\b\b\b\b\b\b\b\b\b\b\b\b\b\b\b\b\b\b\b\b\b\b\b\b\b\r\u001b[1m44/44\u001b[0m \u001b[32m━━━━━━━━━━━━━━━━━━━━\u001b[0m\u001b[37m\u001b[0m \u001b[1m4s\u001b[0m 84ms/step - accuracy: 0.1955 - loss: 2.4334 - val_accuracy: 0.2292 - val_loss: 2.5757\n",
            "Epoch 5/20\n",
            "\u001b[1m44/44\u001b[0m \u001b[32m━━━━━━━━━━━━━━━━━━━━\u001b[0m\u001b[37m\u001b[0m \u001b[1m3s\u001b[0m 78ms/step - accuracy: 0.2011 - loss: 2.7232 - val_accuracy: 0.2083 - val_loss: 2.5861\n",
            "Epoch 6/20\n",
            "\u001b[1m43/44\u001b[0m \u001b[32m━━━━━━━━━━━━━━━━━━━\u001b[0m\u001b[37m━\u001b[0m \u001b[1m0s\u001b[0m 63ms/step - accuracy: 0.2125 - loss: 2.1757"
          ]
        },
        {
          "output_type": "stream",
          "name": "stderr",
          "text": [
            "WARNING:absl:You are saving your model as an HDF5 file via `model.save()` or `keras.saving.save_model(model)`. This file format is considered legacy. We recommend using instead the native Keras format, e.g. `model.save('my_model.keras')` or `keras.saving.save_model(model, 'my_model.keras')`. \n"
          ]
        },
        {
          "output_type": "stream",
          "name": "stdout",
          "text": [
            "\b\b\b\b\b\b\b\b\b\b\b\b\b\b\b\b\b\b\b\b\b\b\b\b\b\b\b\b\b\b\b\b\b\b\b\b\b\b\b\b\b\b\b\b\b\b\b\b\b\b\b\b\b\b\b\b\b\b\b\b\b\b\b\b\b\b\b\b\b\b\b\b\b\r\u001b[1m44/44\u001b[0m \u001b[32m━━━━━━━━━━━━━━━━━━━━\u001b[0m\u001b[37m\u001b[0m \u001b[1m4s\u001b[0m 82ms/step - accuracy: 0.2134 - loss: 2.1818 - val_accuracy: 0.2222 - val_loss: 2.5631\n",
            "Epoch 7/20\n",
            "\u001b[1m44/44\u001b[0m \u001b[32m━━━━━━━━━━━━━━━━━━━━\u001b[0m\u001b[37m\u001b[0m \u001b[1m3s\u001b[0m 76ms/step - accuracy: 0.2340 - loss: 2.2053 - val_accuracy: 0.2083 - val_loss: 2.6064\n",
            "Epoch 8/20\n",
            "\u001b[1m44/44\u001b[0m \u001b[32m━━━━━━━━━━━━━━━━━━━━\u001b[0m\u001b[37m\u001b[0m \u001b[1m3s\u001b[0m 77ms/step - accuracy: 0.2902 - loss: 2.1325 - val_accuracy: 0.1528 - val_loss: 2.6229\n",
            "Epoch 9/20\n",
            "\u001b[1m44/44\u001b[0m \u001b[32m━━━━━━━━━━━━━━━━━━━━\u001b[0m\u001b[37m\u001b[0m \u001b[1m3s\u001b[0m 77ms/step - accuracy: 0.2671 - loss: 1.9813 - val_accuracy: 0.1806 - val_loss: 2.5669\n",
            "Epoch 10/20\n",
            "\u001b[1m44/44\u001b[0m \u001b[32m━━━━━━━━━━━━━━━━━━━━\u001b[0m\u001b[37m\u001b[0m \u001b[1m3s\u001b[0m 78ms/step - accuracy: 0.3067 - loss: 2.1021 - val_accuracy: 0.2361 - val_loss: 2.6003\n",
            "Epoch 11/20\n",
            "\u001b[1m43/44\u001b[0m \u001b[32m━━━━━━━━━━━━━━━━━━━\u001b[0m\u001b[37m━\u001b[0m \u001b[1m0s\u001b[0m 63ms/step - accuracy: 0.3022 - loss: 1.9746"
          ]
        },
        {
          "output_type": "stream",
          "name": "stderr",
          "text": [
            "WARNING:absl:You are saving your model as an HDF5 file via `model.save()` or `keras.saving.save_model(model)`. This file format is considered legacy. We recommend using instead the native Keras format, e.g. `model.save('my_model.keras')` or `keras.saving.save_model(model, 'my_model.keras')`. \n"
          ]
        },
        {
          "output_type": "stream",
          "name": "stdout",
          "text": [
            "\b\b\b\b\b\b\b\b\b\b\b\b\b\b\b\b\b\b\b\b\b\b\b\b\b\b\b\b\b\b\b\b\b\b\b\b\b\b\b\b\b\b\b\b\b\b\b\b\b\b\b\b\b\b\b\b\b\b\b\b\b\b\b\b\b\b\b\b\b\b\b\b\b\r\u001b[1m44/44\u001b[0m \u001b[32m━━━━━━━━━━━━━━━━━━━━\u001b[0m\u001b[37m\u001b[0m \u001b[1m4s\u001b[0m 83ms/step - accuracy: 0.3019 - loss: 1.9742 - val_accuracy: 0.2361 - val_loss: 2.5232\n",
            "Epoch 12/20\n",
            "\u001b[1m44/44\u001b[0m \u001b[32m━━━━━━━━━━━━━━━━━━━━\u001b[0m\u001b[37m\u001b[0m \u001b[1m3s\u001b[0m 78ms/step - accuracy: 0.3203 - loss: 1.8500 - val_accuracy: 0.1875 - val_loss: 2.5849\n",
            "Epoch 13/20\n",
            "\u001b[1m43/44\u001b[0m \u001b[32m━━━━━━━━━━━━━━━━━━━\u001b[0m\u001b[37m━\u001b[0m \u001b[1m0s\u001b[0m 64ms/step - accuracy: 0.3094 - loss: 1.8400"
          ]
        },
        {
          "output_type": "stream",
          "name": "stderr",
          "text": [
            "WARNING:absl:You are saving your model as an HDF5 file via `model.save()` or `keras.saving.save_model(model)`. This file format is considered legacy. We recommend using instead the native Keras format, e.g. `model.save('my_model.keras')` or `keras.saving.save_model(model, 'my_model.keras')`. \n"
          ]
        },
        {
          "output_type": "stream",
          "name": "stdout",
          "text": [
            "\b\b\b\b\b\b\b\b\b\b\b\b\b\b\b\b\b\b\b\b\b\b\b\b\b\b\b\b\b\b\b\b\b\b\b\b\b\b\b\b\b\b\b\b\b\b\b\b\b\b\b\b\b\b\b\b\b\b\b\b\b\b\b\b\b\b\b\b\b\b\b\b\b\r\u001b[1m44/44\u001b[0m \u001b[32m━━━━━━━━━━━━━━━━━━━━\u001b[0m\u001b[37m\u001b[0m \u001b[1m4s\u001b[0m 83ms/step - accuracy: 0.3095 - loss: 1.8416 - val_accuracy: 0.2222 - val_loss: 2.5159\n",
            "Epoch 14/20\n",
            "\u001b[1m44/44\u001b[0m \u001b[32m━━━━━━━━━━━━━━━━━━━━\u001b[0m\u001b[37m\u001b[0m \u001b[1m3s\u001b[0m 76ms/step - accuracy: 0.3439 - loss: 1.6604 - val_accuracy: 0.1875 - val_loss: 2.6054\n",
            "Epoch 15/20\n",
            "\u001b[1m44/44\u001b[0m \u001b[32m━━━━━━━━━━━━━━━━━━━━\u001b[0m\u001b[37m\u001b[0m \u001b[1m3s\u001b[0m 77ms/step - accuracy: 0.3464 - loss: 1.7359 - val_accuracy: 0.2500 - val_loss: 2.5428\n",
            "Epoch 16/20\n",
            "\u001b[1m44/44\u001b[0m \u001b[32m━━━━━━━━━━━━━━━━━━━━\u001b[0m\u001b[37m\u001b[0m \u001b[1m3s\u001b[0m 76ms/step - accuracy: 0.3637 - loss: 1.6265 - val_accuracy: 0.2431 - val_loss: 2.5737\n",
            "Epoch 17/20\n",
            "\u001b[1m44/44\u001b[0m \u001b[32m━━━━━━━━━━━━━━━━━━━━\u001b[0m\u001b[37m\u001b[0m \u001b[1m3s\u001b[0m 78ms/step - accuracy: 0.3727 - loss: 1.6710 - val_accuracy: 0.2639 - val_loss: 2.5286\n",
            "Epoch 18/20\n",
            "\u001b[1m44/44\u001b[0m \u001b[32m━━━━━━━━━━━━━━━━━━━━\u001b[0m\u001b[37m\u001b[0m \u001b[1m3s\u001b[0m 75ms/step - accuracy: 0.3978 - loss: 1.5109 - val_accuracy: 0.2431 - val_loss: 2.5360\n"
          ]
        },
        {
          "output_type": "execute_result",
          "data": {
            "text/plain": [
              "<keras.src.callbacks.history.History at 0x7ec4ac5a4a90>"
            ]
          },
          "metadata": {},
          "execution_count": 78
        }
      ],
      "source": [
        "# Train Model\n",
        "from tensorflow.keras.callbacks import EarlyStopping, ModelCheckpoint\n",
        "\n",
        "callbacks = [\n",
        "    EarlyStopping(patience=5, restore_best_weights=True),\n",
        "    ModelCheckpoint('/content/best_model.h5', save_best_only=True)\n",
        "]\n",
        "\n",
        "class_weights_dict = dict(enumerate(class_weights))\n",
        "\n",
        "model.fit(\n",
        "    X_train_seq, Y_train_labels,\n",
        "    validation_data=(X_val_seq, Y_val_labels),\n",
        "    batch_size=BATCH_SIZE,\n",
        "    epochs=EPOCHS,\n",
        "    callbacks=callbacks,\n",
        "    class_weight=class_weights_dict\n",
        ")"
      ]
    },
    {
      "cell_type": "code",
      "execution_count": 79,
      "metadata": {
        "id": "hPNSC7F14us4",
        "colab": {
          "base_uri": "https://localhost:8080/"
        },
        "outputId": "0cffda76-df43-4116-c0d4-fa3caf7469a8"
      },
      "outputs": [
        {
          "output_type": "stream",
          "name": "stdout",
          "text": [
            "\u001b[1m5/5\u001b[0m \u001b[32m━━━━━━━━━━━━━━━━━━━━\u001b[0m\u001b[37m\u001b[0m \u001b[1m3s\u001b[0m 329ms/step\n"
          ]
        }
      ],
      "source": [
        "# Evaluate on Test Set\n",
        "X_test_seq, Y_test_seq = create_sequences(X_test, Y_test, SEQUENCE_LENGTH)\n",
        "Y_pred = model.predict(X_test_seq)\n",
        "Y_pred_labels = np.argmax(Y_pred, axis=1)\n",
        "Y_true_labels = np.argmax(Y_test_seq, axis=1)\n"
      ]
    },
    {
      "cell_type": "code",
      "source": [
        "new_classes = [label_encoder.classes_[i] for i in valid_class_indices]\n",
        "print(classification_report(Y_true_labels, Y_pred_labels, target_names=new_classes))"
      ],
      "metadata": {
        "colab": {
          "base_uri": "https://localhost:8080/"
        },
        "id": "gXcFA2TQWnuJ",
        "outputId": "e4118223-c262-4147-a349-d749ca6a444e"
      },
      "execution_count": 80,
      "outputs": [
        {
          "output_type": "stream",
          "name": "stdout",
          "text": [
            "              precision    recall  f1-score   support\n",
            "\n",
            "     bending       0.12      0.25      0.17         4\n",
            "  carry_item       0.00      0.00      0.00         1\n",
            " crouch_down       0.00      0.00      0.00         6\n",
            "  empty_room       0.47      0.58      0.52        36\n",
            "      fallen       0.47      0.24      0.32        29\n",
            "   gathering       0.00      0.00      0.00         2\n",
            "housekeeping       0.33      0.17      0.22         6\n",
            "    kneeling       0.00      0.00      0.00         2\n",
            "  lying_down       0.00      0.00      0.00         2\n",
            "   occlusion       0.00      0.00      0.00         1\n",
            "     sitting       0.15      0.18      0.17        11\n",
            "    sleeping       0.00      0.00      0.00        19\n",
            "    standing       0.00      0.00      0.00         2\n",
            "unidentified       0.00      0.00      0.00        24\n",
            "     walking       0.00      0.00      0.00         0\n",
            "\n",
            "    accuracy                           0.22       145\n",
            "   macro avg       0.10      0.09      0.09       145\n",
            "weighted avg       0.24      0.22      0.22       145\n",
            "\n"
          ]
        },
        {
          "output_type": "stream",
          "name": "stderr",
          "text": [
            "/usr/local/lib/python3.11/dist-packages/sklearn/metrics/_classification.py:1565: UndefinedMetricWarning: Recall is ill-defined and being set to 0.0 in labels with no true samples. Use `zero_division` parameter to control this behavior.\n",
            "  _warn_prf(average, modifier, f\"{metric.capitalize()} is\", len(result))\n",
            "/usr/local/lib/python3.11/dist-packages/sklearn/metrics/_classification.py:1565: UndefinedMetricWarning: Recall is ill-defined and being set to 0.0 in labels with no true samples. Use `zero_division` parameter to control this behavior.\n",
            "  _warn_prf(average, modifier, f\"{metric.capitalize()} is\", len(result))\n",
            "/usr/local/lib/python3.11/dist-packages/sklearn/metrics/_classification.py:1565: UndefinedMetricWarning: Recall is ill-defined and being set to 0.0 in labels with no true samples. Use `zero_division` parameter to control this behavior.\n",
            "  _warn_prf(average, modifier, f\"{metric.capitalize()} is\", len(result))\n"
          ]
        }
      ]
    },
    {
      "cell_type": "code",
      "source": [
        "cm = confusion_matrix(Y_true_labels, Y_pred_labels)\n",
        "cm_df = pd.DataFrame(cm, index=new_classes, columns=new_classes)\n",
        "print(cm_df)"
      ],
      "metadata": {
        "colab": {
          "base_uri": "https://localhost:8080/"
        },
        "id": "5nLEH_DPWh7Z",
        "outputId": "f0af388f-e65f-4dc8-a5af-250ae89c03ee"
      },
      "execution_count": 81,
      "outputs": [
        {
          "output_type": "stream",
          "name": "stdout",
          "text": [
            "              bending  carry_item  crouch_down  empty_room  fallen  gathering  \\\n",
            "bending             1           0            0           0       1          0   \n",
            "carry_item          0           0            0           1       0          0   \n",
            "crouch_down         0           0            0           0       0          1   \n",
            "empty_room          1           1            0          21       1          1   \n",
            "fallen              2           0            0           6       7          0   \n",
            "gathering           0           0            0           0       0          0   \n",
            "housekeeping        1           1            0           0       0          1   \n",
            "kneeling            0           0            0           0       0          1   \n",
            "lying_down          0           0            1           0       0          0   \n",
            "occlusion           0           0            0           0       0          0   \n",
            "sitting             0           1            1           3       3          0   \n",
            "sleeping            1           1            2           4       1          1   \n",
            "standing            1           0            0           0       0          0   \n",
            "unidentified        1           1            0          10       2          0   \n",
            "walking             0           0            0           0       0          0   \n",
            "\n",
            "              housekeeping  kneeling  lying_down  occlusion  sitting  \\\n",
            "bending                  0         0           0          1        0   \n",
            "carry_item               0         0           0          0        0   \n",
            "crouch_down              0         1           1          0        1   \n",
            "empty_room               0         0           2          1        4   \n",
            "fallen                   0         2           5          1        2   \n",
            "gathering                0         0           0          0        2   \n",
            "housekeeping             1         0           0          0        0   \n",
            "kneeling                 0         0           0          0        0   \n",
            "lying_down               0         0           0          0        0   \n",
            "occlusion                0         0           0          0        0   \n",
            "sitting                  0         1           0          0        2   \n",
            "sleeping                 2         0           0          2        0   \n",
            "standing                 0         0           1          0        0   \n",
            "unidentified             0         3           1          1        2   \n",
            "walking                  0         0           0          0        0   \n",
            "\n",
            "              sleeping  standing  unidentified  walking  \n",
            "bending              1         0             0        0  \n",
            "carry_item           0         0             0        0  \n",
            "crouch_down          0         1             0        1  \n",
            "empty_room           2         1             0        1  \n",
            "fallen               4         0             0        0  \n",
            "gathering            0         0             0        0  \n",
            "housekeeping         0         1             0        1  \n",
            "kneeling             0         1             0        0  \n",
            "lying_down           0         1             0        0  \n",
            "occlusion            0         1             0        0  \n",
            "sitting              0         0             0        0  \n",
            "sleeping             0         3             1        1  \n",
            "standing             0         0             0        0  \n",
            "unidentified         0         3             0        0  \n",
            "walking              0         0             0        0  \n"
          ]
        }
      ]
    },
    {
      "cell_type": "code",
      "execution_count": 82,
      "metadata": {
        "id": "z8Pn8KLC4upi",
        "colab": {
          "base_uri": "https://localhost:8080/"
        },
        "outputId": "6d091486-0b33-4304-eb41-9f0aa655f65a"
      },
      "outputs": [
        {
          "output_type": "stream",
          "name": "stderr",
          "text": [
            "WARNING:absl:You are saving your model as an HDF5 file via `model.save()` or `keras.saving.save_model(model)`. This file format is considered legacy. We recommend using instead the native Keras format, e.g. `model.save('my_model.keras')` or `keras.saving.save_model(model, 'my_model.keras')`. \n"
          ]
        },
        {
          "output_type": "execute_result",
          "data": {
            "text/plain": [
              "['/content/label_encoder.joblib']"
            ]
          },
          "metadata": {},
          "execution_count": 82
        }
      ],
      "source": [
        "# Save Model & Label Encoder\n",
        "model.save('/content/cnn_lstm_action_classifier.h5')\n",
        "joblib.dump(label_encoder, '/content/label_encoder.joblib')\n"
      ]
    },
    {
      "cell_type": "code",
      "execution_count": 83,
      "metadata": {
        "id": "AJDk26Kw4sCQ"
      },
      "outputs": [],
      "source": [
        "# Upload back to GCS\n",
        "bucket.blob('models/cnn_lstm_action_classifier.h5').upload_from_filename('/content/cnn_lstm_action_classifier.h5')\n",
        "bucket.blob('models/label_encoder.joblib').upload_from_filename('/content/label_encoder.joblib')\n",
        "\n",
        "# Apply detection logic: extract frames → preprocess → form sequences → predict → log to CSV / stream to Power BI/Tableau\n"
      ]
    },
    {
      "cell_type": "markdown",
      "source": [
        "# Attempt 2"
      ],
      "metadata": {
        "id": "ARlAkeP-nIw0"
      }
    },
    {
      "cell_type": "code",
      "source": [
        "# Labels to remove\n",
        "remove_labels = ['empty_room', 'occlusion', 'unidentified']\n",
        "\n",
        "remove_indices = [i for i, label in enumerate(label_encoder.classes_) if label in remove_labels]\n",
        "print(\"Removing class indices:\", remove_indices)\n",
        "\n",
        "keep_indices = [i for i in range(len(label_encoder.classes_)) if i not in remove_indices]\n",
        "\n",
        "\n",
        "X_clean = []\n",
        "Y_clean = []\n",
        "\n",
        "for i in range(len(Y)):\n",
        "    label_index = np.argmax(Y[i])\n",
        "    if label_index in keep_indices:\n",
        "        X_clean.append(X[i])\n",
        "        # One-hot encode to new index range\n",
        "        new_label_index = keep_indices.index(label_index)\n",
        "        new_Y = np.zeros(len(keep_indices))\n",
        "        new_Y[new_label_index] = 1\n",
        "        Y_clean.append(new_Y)\n",
        "\n",
        "X_clean = np.array(X_clean)\n",
        "Y_clean = np.array(Y_clean)\n",
        "\n",
        "print(\"Cleaned dataset shape:\", X_clean.shape, Y_clean.shape)"
      ],
      "metadata": {
        "colab": {
          "base_uri": "https://localhost:8080/"
        },
        "id": "qrHVe-k9nKS5",
        "outputId": "7e46ae0c-4811-4243-c210-73ffe46a119b"
      },
      "execution_count": 86,
      "outputs": [
        {
          "output_type": "stream",
          "name": "stdout",
          "text": [
            "Removing class indices: [4, 10, 14]\n",
            "Cleaned dataset shape: (569, 224, 224, 3) (569, 14)\n"
          ]
        }
      ]
    },
    {
      "cell_type": "code",
      "source": [
        "# New class names\n",
        "new_class_names = [label_encoder.classes_[i] for i in keep_indices]\n",
        "print(\"Remaining classes:\", new_class_names)"
      ],
      "metadata": {
        "colab": {
          "base_uri": "https://localhost:8080/"
        },
        "id": "EVmR7hYFnSUo",
        "outputId": "cb433d57-dd52-4b14-e8e0-d33ea8da590a"
      },
      "execution_count": 87,
      "outputs": [
        {
          "output_type": "stream",
          "name": "stdout",
          "text": [
            "Remaining classes: ['bending', 'carry_item', 'crawling', 'crouch_down', 'fallen', 'gathering', 'housekeeping', 'kneeling', 'lying_down', 'sitting', 'sleeping', 'standing', 'using_laptop', 'walking']\n"
          ]
        }
      ]
    },
    {
      "cell_type": "code",
      "source": [
        "# Get label indices from one-hot\n",
        "Y_clean_labels = np.argmax(Y_clean, axis=1)\n",
        "\n",
        "# Count per class\n",
        "unique, counts = np.unique(Y_clean_labels, return_counts=True)\n",
        "\n",
        "for i, c in zip(unique, counts):\n",
        "    print(f\"{new_class_names[i]}: {c}\")"
      ],
      "metadata": {
        "colab": {
          "base_uri": "https://localhost:8080/"
        },
        "id": "13GEYbW2ndd0",
        "outputId": "90033a3e-5c47-47f0-bf88-cc15fdee8cc3"
      },
      "execution_count": 89,
      "outputs": [
        {
          "output_type": "stream",
          "name": "stdout",
          "text": [
            "bending: 30\n",
            "carry_item: 15\n",
            "crawling: 38\n",
            "crouch_down: 245\n",
            "fallen: 15\n",
            "gathering: 36\n",
            "housekeeping: 13\n",
            "kneeling: 17\n",
            "lying_down: 10\n",
            "sitting: 4\n",
            "sleeping: 132\n",
            "standing: 14\n"
          ]
        }
      ]
    },
    {
      "cell_type": "code",
      "source": [
        "from collections import Counter\n",
        "min_samples_per_class = 100\n",
        "\n",
        "# Count current samples\n",
        "counts = Counter(Y_clean_labels)\n",
        "\n",
        "X_aug, Y_aug = [], []\n",
        "\n",
        "for i in range(len(X_clean)):\n",
        "    label = Y_clean_labels[i]\n",
        "    X_aug.append(X_clean[i])\n",
        "    Y_aug.append(Y_clean[i])\n",
        "\n",
        "    # If this class is below threshold, add augmented copies\n",
        "    while counts[label] < min_samples_per_class:\n",
        "        aug_img = augment_image(X_clean[i])\n",
        "        X_aug.append(aug_img)\n",
        "        Y_aug.append(Y_clean[i])\n",
        "        counts[label] += 1\n",
        "\n",
        "# Convert to arrays\n",
        "X_aug = np.array(X_aug)\n",
        "Y_aug = np.array(Y_aug)\n",
        "\n",
        "print(\"After augmentation:\", X_aug.shape, Y_aug.shape)"
      ],
      "metadata": {
        "colab": {
          "base_uri": "https://localhost:8080/"
        },
        "id": "gp4mshnRpwYu",
        "outputId": "aa7d9052-ce91-44d3-aa5f-7aefc5de6540"
      },
      "execution_count": 98,
      "outputs": [
        {
          "output_type": "stream",
          "name": "stdout",
          "text": [
            "After augmentation: (1377, 224, 224, 3) (1377, 14)\n"
          ]
        }
      ]
    },
    {
      "cell_type": "code",
      "source": [
        "print(\"Unique labels in Y_true_labels:\", np.unique(Y_true_labels))\n",
        "print(\"Unique labels in Y_pred_labels:\", np.unique(Y_pred_labels))\n",
        "print(\"Length of new_class_names:\", len(new_class_names))"
      ],
      "metadata": {
        "colab": {
          "base_uri": "https://localhost:8080/"
        },
        "id": "4DipFweGwK-O",
        "outputId": "57548585-5f34-4e09-db92-08ba9622374c"
      },
      "execution_count": 104,
      "outputs": [
        {
          "output_type": "stream",
          "name": "stdout",
          "text": [
            "Unique labels in Y_true_labels: [ 0  1  2  3  4  5  6  7  8  9 10 11]\n",
            "Unique labels in Y_pred_labels: [ 0  1  2  3  4  5  6  7  8  9 10 11]\n",
            "Length of new_class_names: 14\n"
          ]
        }
      ]
    },
    {
      "cell_type": "markdown",
      "source": [
        "Value\tMeaning:\n",
        "1. 1377 - Number of images after augmentation (total images including both original + augmented)\n",
        "2. (224, 224, 3) - \tShape of each image (224x224 pixels, with 3 color channels — RGB)\n",
        "3. (1377, 14)\t- Number of labels after augmentation, one-hot encoded vectors of size 14 per image\n",
        "\n",
        "In summary, 1377 images and their corresponding one-hot encoded labels of 14 action classes (after removing empty_room, occlusion, unidentified)."
      ],
      "metadata": {
        "id": "qqX60hjYrN6a"
      }
    },
    {
      "cell_type": "code",
      "source": [
        "# Train-validation-test split\n",
        "X_train, X_temp, Y_train, Y_temp = train_test_split(X_aug, Y_aug, test_size=0.3, random_state=42, stratify=Y_aug)\n",
        "X_val, X_test, Y_val, Y_test = train_test_split(X_temp, Y_temp, test_size=0.5, random_state=42, stratify=Y_temp)\n",
        "\n",
        "# Create sequences for LSTM\n",
        "def create_sequences(X, Y, seq_length):\n",
        "    X_seq, Y_seq = [], []\n",
        "    for i in range(len(X) - seq_length):\n",
        "        X_seq.append(X[i:i+seq_length])\n",
        "        Y_seq.append(Y[i+seq_length-1])\n",
        "    return np.array(X_seq), np.array(Y_seq)\n",
        "\n",
        "X_train_seq, Y_train_seq = create_sequences(X_train, Y_train, SEQUENCE_LENGTH)\n",
        "X_val_seq, Y_val_seq = create_sequences(X_val, Y_val, SEQUENCE_LENGTH)\n",
        "X_test_seq, Y_test_seq = create_sequences(X_test, Y_test, SEQUENCE_LENGTH)"
      ],
      "metadata": {
        "id": "q68mj93QqCj_"
      },
      "execution_count": 99,
      "outputs": []
    },
    {
      "cell_type": "code",
      "source": [
        "!pip install albumentations\n"
      ],
      "metadata": {
        "colab": {
          "base_uri": "https://localhost:8080/"
        },
        "id": "t83U2dXqosZC",
        "outputId": "9a8341ed-a14d-439d-8b3a-ac36a5f1f7cb"
      },
      "execution_count": 92,
      "outputs": [
        {
          "output_type": "stream",
          "name": "stdout",
          "text": [
            "Requirement already satisfied: albumentations in /usr/local/lib/python3.11/dist-packages (2.0.8)\n",
            "Requirement already satisfied: numpy>=1.24.4 in /usr/local/lib/python3.11/dist-packages (from albumentations) (2.0.2)\n",
            "Requirement already satisfied: scipy>=1.10.0 in /usr/local/lib/python3.11/dist-packages (from albumentations) (1.15.3)\n",
            "Requirement already satisfied: PyYAML in /usr/local/lib/python3.11/dist-packages (from albumentations) (6.0.2)\n",
            "Requirement already satisfied: pydantic>=2.9.2 in /usr/local/lib/python3.11/dist-packages (from albumentations) (2.11.7)\n",
            "Requirement already satisfied: albucore==0.0.24 in /usr/local/lib/python3.11/dist-packages (from albumentations) (0.0.24)\n",
            "Requirement already satisfied: opencv-python-headless>=4.9.0.80 in /usr/local/lib/python3.11/dist-packages (from albumentations) (4.11.0.86)\n",
            "Requirement already satisfied: stringzilla>=3.10.4 in /usr/local/lib/python3.11/dist-packages (from albucore==0.0.24->albumentations) (3.12.5)\n",
            "Requirement already satisfied: simsimd>=5.9.2 in /usr/local/lib/python3.11/dist-packages (from albucore==0.0.24->albumentations) (6.4.9)\n",
            "Requirement already satisfied: annotated-types>=0.6.0 in /usr/local/lib/python3.11/dist-packages (from pydantic>=2.9.2->albumentations) (0.7.0)\n",
            "Requirement already satisfied: pydantic-core==2.33.2 in /usr/local/lib/python3.11/dist-packages (from pydantic>=2.9.2->albumentations) (2.33.2)\n",
            "Requirement already satisfied: typing-extensions>=4.12.2 in /usr/local/lib/python3.11/dist-packages (from pydantic>=2.9.2->albumentations) (4.14.0)\n",
            "Requirement already satisfied: typing-inspection>=0.4.0 in /usr/local/lib/python3.11/dist-packages (from pydantic>=2.9.2->albumentations) (0.4.1)\n"
          ]
        }
      ]
    },
    {
      "cell_type": "code",
      "source": [
        "import albumentations as A\n",
        "import cv2\n",
        "\n",
        "# Define augmentation pipeline\n",
        "augment = A.Compose([\n",
        "    A.HorizontalFlip(p=0.5),\n",
        "    A.RandomBrightnessContrast(p=0.2),\n",
        "    A.Rotate(limit=20, p=0.3),\n",
        "    A.GaussNoise(p=0.2),\n",
        "    A.MotionBlur(p=0.2)\n",
        "])\n",
        "\n",
        "def augment_image(image):\n",
        "    # Albumentations expects images in uint8, HWC format\n",
        "    image = image.astype('uint8')\n",
        "    augmented = augment(image=image)\n",
        "    return augmented['image']"
      ],
      "metadata": {
        "id": "3uZ4ev8_ou8V"
      },
      "execution_count": 96,
      "outputs": []
    },
    {
      "cell_type": "code",
      "source": [
        "from tensorflow.keras.applications import ResNet50\n",
        "from tensorflow.keras.models import Sequential\n",
        "from tensorflow.keras.layers import TimeDistributed, GlobalAveragePooling2D, LSTM, Dropout, Dense\n",
        "from tensorflow.keras.optimizers import Adam"
      ],
      "metadata": {
        "id": "1BlddmM0reQ3"
      },
      "execution_count": 100,
      "outputs": []
    },
    {
      "cell_type": "code",
      "source": [
        "# Load pretrained ResNet50 model (exclude top classification layers)\n",
        "base_cnn = ResNet50(weights='imagenet', include_top=False, input_shape=(224, 224, 3))\n",
        "for layer in base_cnn.layers:\n",
        "    layer.trainable = False  # freeze CNN layers for transfer learning\n",
        "\n",
        "# Wrap CNN in a Sequential model\n",
        "cnn_model = Sequential([\n",
        "    base_cnn,\n",
        "    GlobalAveragePooling2D()\n",
        "])\n",
        "\n",
        "# Build the CNN-LSTM model\n",
        "model = Sequential([\n",
        "    TimeDistributed(cnn_model, input_shape=(SEQUENCE_LENGTH, 224, 224, 3)),\n",
        "    LSTM(128, return_sequences=False),\n",
        "    Dropout(0.5),\n",
        "    Dense(Y_train_seq.shape[-1], activation='softmax')  # Number of classes = 14\n",
        "])\n",
        "\n",
        "# Compile the model\n",
        "model.compile(optimizer=Adam(1e-4), loss='categorical_crossentropy', metrics=['accuracy'])\n",
        "model.summary()"
      ],
      "metadata": {
        "colab": {
          "base_uri": "https://localhost:8080/",
          "height": 344
        },
        "id": "DP48IrQargsa",
        "outputId": "5472f6de-0896-42a4-a164-90f502444df0"
      },
      "execution_count": 101,
      "outputs": [
        {
          "output_type": "stream",
          "name": "stderr",
          "text": [
            "/usr/local/lib/python3.11/dist-packages/keras/src/layers/core/wrapper.py:27: UserWarning: Do not pass an `input_shape`/`input_dim` argument to a layer. When using Sequential models, prefer using an `Input(shape)` object as the first layer in the model instead.\n",
            "  super().__init__(**kwargs)\n"
          ]
        },
        {
          "output_type": "display_data",
          "data": {
            "text/plain": [
              "\u001b[1mModel: \"sequential_15\"\u001b[0m\n"
            ],
            "text/html": [
              "<pre style=\"white-space:pre;overflow-x:auto;line-height:normal;font-family:Menlo,'DejaVu Sans Mono',consolas,'Courier New',monospace\"><span style=\"font-weight: bold\">Model: \"sequential_15\"</span>\n",
              "</pre>\n"
            ]
          },
          "metadata": {}
        },
        {
          "output_type": "display_data",
          "data": {
            "text/plain": [
              "┏━━━━━━━━━━━━━━━━━━━━━━━━━━━━━━━━━┳━━━━━━━━━━━━━━━━━━━━━━━━┳━━━━━━━━━━━━━━━┓\n",
              "┃\u001b[1m \u001b[0m\u001b[1mLayer (type)                   \u001b[0m\u001b[1m \u001b[0m┃\u001b[1m \u001b[0m\u001b[1mOutput Shape          \u001b[0m\u001b[1m \u001b[0m┃\u001b[1m \u001b[0m\u001b[1m      Param #\u001b[0m\u001b[1m \u001b[0m┃\n",
              "┡━━━━━━━━━━━━━━━━━━━━━━━━━━━━━━━━━╇━━━━━━━━━━━━━━━━━━━━━━━━╇━━━━━━━━━━━━━━━┩\n",
              "│ time_distributed_7              │ (\u001b[38;5;45mNone\u001b[0m, \u001b[38;5;34m5\u001b[0m, \u001b[38;5;34m2048\u001b[0m)        │    \u001b[38;5;34m23,587,712\u001b[0m │\n",
              "│ (\u001b[38;5;33mTimeDistributed\u001b[0m)               │                        │               │\n",
              "├─────────────────────────────────┼────────────────────────┼───────────────┤\n",
              "│ lstm_7 (\u001b[38;5;33mLSTM\u001b[0m)                   │ (\u001b[38;5;45mNone\u001b[0m, \u001b[38;5;34m128\u001b[0m)            │     \u001b[38;5;34m1,114,624\u001b[0m │\n",
              "├─────────────────────────────────┼────────────────────────┼───────────────┤\n",
              "│ dropout_7 (\u001b[38;5;33mDropout\u001b[0m)             │ (\u001b[38;5;45mNone\u001b[0m, \u001b[38;5;34m128\u001b[0m)            │             \u001b[38;5;34m0\u001b[0m │\n",
              "├─────────────────────────────────┼────────────────────────┼───────────────┤\n",
              "│ dense_7 (\u001b[38;5;33mDense\u001b[0m)                 │ (\u001b[38;5;45mNone\u001b[0m, \u001b[38;5;34m14\u001b[0m)             │         \u001b[38;5;34m1,806\u001b[0m │\n",
              "└─────────────────────────────────┴────────────────────────┴───────────────┘\n"
            ],
            "text/html": [
              "<pre style=\"white-space:pre;overflow-x:auto;line-height:normal;font-family:Menlo,'DejaVu Sans Mono',consolas,'Courier New',monospace\">┏━━━━━━━━━━━━━━━━━━━━━━━━━━━━━━━━━┳━━━━━━━━━━━━━━━━━━━━━━━━┳━━━━━━━━━━━━━━━┓\n",
              "┃<span style=\"font-weight: bold\"> Layer (type)                    </span>┃<span style=\"font-weight: bold\"> Output Shape           </span>┃<span style=\"font-weight: bold\">       Param # </span>┃\n",
              "┡━━━━━━━━━━━━━━━━━━━━━━━━━━━━━━━━━╇━━━━━━━━━━━━━━━━━━━━━━━━╇━━━━━━━━━━━━━━━┩\n",
              "│ time_distributed_7              │ (<span style=\"color: #00d7ff; text-decoration-color: #00d7ff\">None</span>, <span style=\"color: #00af00; text-decoration-color: #00af00\">5</span>, <span style=\"color: #00af00; text-decoration-color: #00af00\">2048</span>)        │    <span style=\"color: #00af00; text-decoration-color: #00af00\">23,587,712</span> │\n",
              "│ (<span style=\"color: #0087ff; text-decoration-color: #0087ff\">TimeDistributed</span>)               │                        │               │\n",
              "├─────────────────────────────────┼────────────────────────┼───────────────┤\n",
              "│ lstm_7 (<span style=\"color: #0087ff; text-decoration-color: #0087ff\">LSTM</span>)                   │ (<span style=\"color: #00d7ff; text-decoration-color: #00d7ff\">None</span>, <span style=\"color: #00af00; text-decoration-color: #00af00\">128</span>)            │     <span style=\"color: #00af00; text-decoration-color: #00af00\">1,114,624</span> │\n",
              "├─────────────────────────────────┼────────────────────────┼───────────────┤\n",
              "│ dropout_7 (<span style=\"color: #0087ff; text-decoration-color: #0087ff\">Dropout</span>)             │ (<span style=\"color: #00d7ff; text-decoration-color: #00d7ff\">None</span>, <span style=\"color: #00af00; text-decoration-color: #00af00\">128</span>)            │             <span style=\"color: #00af00; text-decoration-color: #00af00\">0</span> │\n",
              "├─────────────────────────────────┼────────────────────────┼───────────────┤\n",
              "│ dense_7 (<span style=\"color: #0087ff; text-decoration-color: #0087ff\">Dense</span>)                 │ (<span style=\"color: #00d7ff; text-decoration-color: #00d7ff\">None</span>, <span style=\"color: #00af00; text-decoration-color: #00af00\">14</span>)             │         <span style=\"color: #00af00; text-decoration-color: #00af00\">1,806</span> │\n",
              "└─────────────────────────────────┴────────────────────────┴───────────────┘\n",
              "</pre>\n"
            ]
          },
          "metadata": {}
        },
        {
          "output_type": "display_data",
          "data": {
            "text/plain": [
              "\u001b[1m Total params: \u001b[0m\u001b[38;5;34m24,704,142\u001b[0m (94.24 MB)\n"
            ],
            "text/html": [
              "<pre style=\"white-space:pre;overflow-x:auto;line-height:normal;font-family:Menlo,'DejaVu Sans Mono',consolas,'Courier New',monospace\"><span style=\"font-weight: bold\"> Total params: </span><span style=\"color: #00af00; text-decoration-color: #00af00\">24,704,142</span> (94.24 MB)\n",
              "</pre>\n"
            ]
          },
          "metadata": {}
        },
        {
          "output_type": "display_data",
          "data": {
            "text/plain": [
              "\u001b[1m Trainable params: \u001b[0m\u001b[38;5;34m1,116,430\u001b[0m (4.26 MB)\n"
            ],
            "text/html": [
              "<pre style=\"white-space:pre;overflow-x:auto;line-height:normal;font-family:Menlo,'DejaVu Sans Mono',consolas,'Courier New',monospace\"><span style=\"font-weight: bold\"> Trainable params: </span><span style=\"color: #00af00; text-decoration-color: #00af00\">1,116,430</span> (4.26 MB)\n",
              "</pre>\n"
            ]
          },
          "metadata": {}
        },
        {
          "output_type": "display_data",
          "data": {
            "text/plain": [
              "\u001b[1m Non-trainable params: \u001b[0m\u001b[38;5;34m23,587,712\u001b[0m (89.98 MB)\n"
            ],
            "text/html": [
              "<pre style=\"white-space:pre;overflow-x:auto;line-height:normal;font-family:Menlo,'DejaVu Sans Mono',consolas,'Courier New',monospace\"><span style=\"font-weight: bold\"> Non-trainable params: </span><span style=\"color: #00af00; text-decoration-color: #00af00\">23,587,712</span> (89.98 MB)\n",
              "</pre>\n"
            ]
          },
          "metadata": {}
        }
      ]
    },
    {
      "cell_type": "code",
      "source": [
        "from tensorflow.keras.callbacks import EarlyStopping, ModelCheckpoint\n",
        "\n",
        "callbacks = [\n",
        "    EarlyStopping(patience=5, restore_best_weights=True),\n",
        "    ModelCheckpoint('/content/best_resnet_model.h5', save_best_only=True)\n",
        "]\n",
        "\n",
        "# Train the model\n",
        "model.fit(\n",
        "    X_train_seq, Y_train_seq,\n",
        "    validation_data=(X_val_seq, Y_val_seq),\n",
        "    batch_size=BATCH_SIZE,\n",
        "    epochs=EPOCHS,\n",
        "    callbacks=callbacks\n",
        ")"
      ],
      "metadata": {
        "colab": {
          "base_uri": "https://localhost:8080/"
        },
        "id": "r6L3Gr9Frq1k",
        "outputId": "80c82ac2-90b3-45eb-9d2f-5ad5825bdc56"
      },
      "execution_count": 102,
      "outputs": [
        {
          "output_type": "stream",
          "name": "stdout",
          "text": [
            "Epoch 1/20\n",
            "\u001b[1m60/60\u001b[0m \u001b[32m━━━━━━━━━━━━━━━━━━━━\u001b[0m\u001b[37m\u001b[0m \u001b[1m0s\u001b[0m 76ms/step - accuracy: 0.1907 - loss: 2.4324"
          ]
        },
        {
          "output_type": "stream",
          "name": "stderr",
          "text": [
            "WARNING:absl:You are saving your model as an HDF5 file via `model.save()` or `keras.saving.save_model(model)`. This file format is considered legacy. We recommend using instead the native Keras format, e.g. `model.save('my_model.keras')` or `keras.saving.save_model(model, 'my_model.keras')`. \n"
          ]
        },
        {
          "output_type": "stream",
          "name": "stdout",
          "text": [
            "\b\b\b\b\b\b\b\b\b\b\b\b\b\b\b\b\b\b\b\b\b\b\b\b\b\b\b\b\b\b\b\b\b\b\b\b\b\b\b\b\b\b\b\b\b\b\b\b\b\b\b\b\b\b\b\b\b\b\b\b\b\b\b\b\b\b\b\b\b\b\b\b\b\r\u001b[1m60/60\u001b[0m \u001b[32m━━━━━━━━━━━━━━━━━━━━\u001b[0m\u001b[37m\u001b[0m \u001b[1m50s\u001b[0m 304ms/step - accuracy: 0.1914 - loss: 2.4306 - val_accuracy: 0.3713 - val_loss: 2.0820\n",
            "Epoch 2/20\n",
            "\u001b[1m60/60\u001b[0m \u001b[32m━━━━━━━━━━━━━━━━━━━━\u001b[0m\u001b[37m\u001b[0m \u001b[1m0s\u001b[0m 76ms/step - accuracy: 0.3857 - loss: 1.9620"
          ]
        },
        {
          "output_type": "stream",
          "name": "stderr",
          "text": [
            "WARNING:absl:You are saving your model as an HDF5 file via `model.save()` or `keras.saving.save_model(model)`. This file format is considered legacy. We recommend using instead the native Keras format, e.g. `model.save('my_model.keras')` or `keras.saving.save_model(model, 'my_model.keras')`. \n"
          ]
        },
        {
          "output_type": "stream",
          "name": "stdout",
          "text": [
            "\b\b\b\b\b\b\b\b\b\b\b\b\b\b\b\b\b\b\b\b\b\b\b\b\b\b\b\b\b\b\b\b\b\b\b\b\b\b\b\b\b\b\b\b\b\b\b\b\b\b\b\b\b\b\b\b\b\b\b\b\b\b\b\b\b\b\b\b\b\b\b\b\b\r\u001b[1m60/60\u001b[0m \u001b[32m━━━━━━━━━━━━━━━━━━━━\u001b[0m\u001b[37m\u001b[0m \u001b[1m6s\u001b[0m 105ms/step - accuracy: 0.3863 - loss: 1.9608 - val_accuracy: 0.5347 - val_loss: 1.7333\n",
            "Epoch 3/20\n",
            "\u001b[1m60/60\u001b[0m \u001b[32m━━━━━━━━━━━━━━━━━━━━\u001b[0m\u001b[37m\u001b[0m \u001b[1m0s\u001b[0m 74ms/step - accuracy: 0.5612 - loss: 1.6093"
          ]
        },
        {
          "output_type": "stream",
          "name": "stderr",
          "text": [
            "WARNING:absl:You are saving your model as an HDF5 file via `model.save()` or `keras.saving.save_model(model)`. This file format is considered legacy. We recommend using instead the native Keras format, e.g. `model.save('my_model.keras')` or `keras.saving.save_model(model, 'my_model.keras')`. \n"
          ]
        },
        {
          "output_type": "stream",
          "name": "stdout",
          "text": [
            "\b\b\b\b\b\b\b\b\b\b\b\b\b\b\b\b\b\b\b\b\b\b\b\b\b\b\b\b\b\b\b\b\b\b\b\b\b\b\b\b\b\b\b\b\b\b\b\b\b\b\b\b\b\b\b\b\b\b\b\b\b\b\b\b\b\b\b\b\b\b\b\b\b\r\u001b[1m60/60\u001b[0m \u001b[32m━━━━━━━━━━━━━━━━━━━━\u001b[0m\u001b[37m\u001b[0m \u001b[1m6s\u001b[0m 104ms/step - accuracy: 0.5617 - loss: 1.6080 - val_accuracy: 0.6139 - val_loss: 1.4937\n",
            "Epoch 4/20\n",
            "\u001b[1m60/60\u001b[0m \u001b[32m━━━━━━━━━━━━━━━━━━━━\u001b[0m\u001b[37m\u001b[0m \u001b[1m0s\u001b[0m 73ms/step - accuracy: 0.6407 - loss: 1.3504"
          ]
        },
        {
          "output_type": "stream",
          "name": "stderr",
          "text": [
            "WARNING:absl:You are saving your model as an HDF5 file via `model.save()` or `keras.saving.save_model(model)`. This file format is considered legacy. We recommend using instead the native Keras format, e.g. `model.save('my_model.keras')` or `keras.saving.save_model(model, 'my_model.keras')`. \n"
          ]
        },
        {
          "output_type": "stream",
          "name": "stdout",
          "text": [
            "\b\b\b\b\b\b\b\b\b\b\b\b\b\b\b\b\b\b\b\b\b\b\b\b\b\b\b\b\b\b\b\b\b\b\b\b\b\b\b\b\b\b\b\b\b\b\b\b\b\b\b\b\b\b\b\b\b\b\b\b\b\b\b\b\b\b\b\b\b\b\b\b\b\r\u001b[1m60/60\u001b[0m \u001b[32m━━━━━━━━━━━━━━━━━━━━\u001b[0m\u001b[37m\u001b[0m \u001b[1m6s\u001b[0m 101ms/step - accuracy: 0.6411 - loss: 1.3496 - val_accuracy: 0.6287 - val_loss: 1.3504\n",
            "Epoch 5/20\n",
            "\u001b[1m60/60\u001b[0m \u001b[32m━━━━━━━━━━━━━━━━━━━━\u001b[0m\u001b[37m\u001b[0m \u001b[1m0s\u001b[0m 73ms/step - accuracy: 0.6729 - loss: 1.2446"
          ]
        },
        {
          "output_type": "stream",
          "name": "stderr",
          "text": [
            "WARNING:absl:You are saving your model as an HDF5 file via `model.save()` or `keras.saving.save_model(model)`. This file format is considered legacy. We recommend using instead the native Keras format, e.g. `model.save('my_model.keras')` or `keras.saving.save_model(model, 'my_model.keras')`. \n"
          ]
        },
        {
          "output_type": "stream",
          "name": "stdout",
          "text": [
            "\b\b\b\b\b\b\b\b\b\b\b\b\b\b\b\b\b\b\b\b\b\b\b\b\b\b\b\b\b\b\b\b\b\b\b\b\b\b\b\b\b\b\b\b\b\b\b\b\b\b\b\b\b\b\b\b\b\b\b\b\b\b\b\b\b\b\b\b\b\b\b\b\b\r\u001b[1m60/60\u001b[0m \u001b[32m━━━━━━━━━━━━━━━━━━━━\u001b[0m\u001b[37m\u001b[0m \u001b[1m6s\u001b[0m 101ms/step - accuracy: 0.6734 - loss: 1.2432 - val_accuracy: 0.6584 - val_loss: 1.2414\n",
            "Epoch 6/20\n",
            "\u001b[1m60/60\u001b[0m \u001b[32m━━━━━━━━━━━━━━━━━━━━\u001b[0m\u001b[37m\u001b[0m \u001b[1m0s\u001b[0m 73ms/step - accuracy: 0.7233 - loss: 1.0737"
          ]
        },
        {
          "output_type": "stream",
          "name": "stderr",
          "text": [
            "WARNING:absl:You are saving your model as an HDF5 file via `model.save()` or `keras.saving.save_model(model)`. This file format is considered legacy. We recommend using instead the native Keras format, e.g. `model.save('my_model.keras')` or `keras.saving.save_model(model, 'my_model.keras')`. \n"
          ]
        },
        {
          "output_type": "stream",
          "name": "stdout",
          "text": [
            "\b\b\b\b\b\b\b\b\b\b\b\b\b\b\b\b\b\b\b\b\b\b\b\b\b\b\b\b\b\b\b\b\b\b\b\b\b\b\b\b\b\b\b\b\b\b\b\b\b\b\b\b\b\b\b\b\b\b\b\b\b\b\b\b\b\b\b\b\b\b\b\b\b\r\u001b[1m60/60\u001b[0m \u001b[32m━━━━━━━━━━━━━━━━━━━━\u001b[0m\u001b[37m\u001b[0m \u001b[1m6s\u001b[0m 100ms/step - accuracy: 0.7235 - loss: 1.0733 - val_accuracy: 0.6832 - val_loss: 1.1735\n",
            "Epoch 7/20\n",
            "\u001b[1m60/60\u001b[0m \u001b[32m━━━━━━━━━━━━━━━━━━━━\u001b[0m\u001b[37m\u001b[0m \u001b[1m0s\u001b[0m 73ms/step - accuracy: 0.7325 - loss: 0.9983"
          ]
        },
        {
          "output_type": "stream",
          "name": "stderr",
          "text": [
            "WARNING:absl:You are saving your model as an HDF5 file via `model.save()` or `keras.saving.save_model(model)`. This file format is considered legacy. We recommend using instead the native Keras format, e.g. `model.save('my_model.keras')` or `keras.saving.save_model(model, 'my_model.keras')`. \n"
          ]
        },
        {
          "output_type": "stream",
          "name": "stdout",
          "text": [
            "\b\b\b\b\b\b\b\b\b\b\b\b\b\b\b\b\b\b\b\b\b\b\b\b\b\b\b\b\b\b\b\b\b\b\b\b\b\b\b\b\b\b\b\b\b\b\b\b\b\b\b\b\b\b\b\b\b\b\b\b\b\b\b\b\b\b\b\b\b\b\b\b\b\r\u001b[1m60/60\u001b[0m \u001b[32m━━━━━━━━━━━━━━━━━━━━\u001b[0m\u001b[37m\u001b[0m \u001b[1m6s\u001b[0m 101ms/step - accuracy: 0.7327 - loss: 0.9980 - val_accuracy: 0.7178 - val_loss: 1.1174\n",
            "Epoch 8/20\n",
            "\u001b[1m60/60\u001b[0m \u001b[32m━━━━━━━━━━━━━━━━━━━━\u001b[0m\u001b[37m\u001b[0m \u001b[1m0s\u001b[0m 74ms/step - accuracy: 0.7994 - loss: 0.8677"
          ]
        },
        {
          "output_type": "stream",
          "name": "stderr",
          "text": [
            "WARNING:absl:You are saving your model as an HDF5 file via `model.save()` or `keras.saving.save_model(model)`. This file format is considered legacy. We recommend using instead the native Keras format, e.g. `model.save('my_model.keras')` or `keras.saving.save_model(model, 'my_model.keras')`. \n"
          ]
        },
        {
          "output_type": "stream",
          "name": "stdout",
          "text": [
            "\b\b\b\b\b\b\b\b\b\b\b\b\b\b\b\b\b\b\b\b\b\b\b\b\b\b\b\b\b\b\b\b\b\b\b\b\b\b\b\b\b\b\b\b\b\b\b\b\b\b\b\b\b\b\b\b\b\b\b\b\b\b\b\b\b\b\b\b\b\b\b\b\b\r\u001b[1m60/60\u001b[0m \u001b[32m━━━━━━━━━━━━━━━━━━━━\u001b[0m\u001b[37m\u001b[0m \u001b[1m6s\u001b[0m 102ms/step - accuracy: 0.7991 - loss: 0.8682 - val_accuracy: 0.6931 - val_loss: 1.0941\n",
            "Epoch 9/20\n",
            "\u001b[1m60/60\u001b[0m \u001b[32m━━━━━━━━━━━━━━━━━━━━\u001b[0m\u001b[37m\u001b[0m \u001b[1m0s\u001b[0m 74ms/step - accuracy: 0.8000 - loss: 0.8897"
          ]
        },
        {
          "output_type": "stream",
          "name": "stderr",
          "text": [
            "WARNING:absl:You are saving your model as an HDF5 file via `model.save()` or `keras.saving.save_model(model)`. This file format is considered legacy. We recommend using instead the native Keras format, e.g. `model.save('my_model.keras')` or `keras.saving.save_model(model, 'my_model.keras')`. \n"
          ]
        },
        {
          "output_type": "stream",
          "name": "stdout",
          "text": [
            "\b\b\b\b\b\b\b\b\b\b\b\b\b\b\b\b\b\b\b\b\b\b\b\b\b\b\b\b\b\b\b\b\b\b\b\b\b\b\b\b\b\b\b\b\b\b\b\b\b\b\b\b\b\b\b\b\b\b\b\b\b\b\b\b\b\b\b\b\b\b\b\b\b\r\u001b[1m60/60\u001b[0m \u001b[32m━━━━━━━━━━━━━━━━━━━━\u001b[0m\u001b[37m\u001b[0m \u001b[1m6s\u001b[0m 101ms/step - accuracy: 0.7999 - loss: 0.8892 - val_accuracy: 0.6980 - val_loss: 1.0512\n",
            "Epoch 10/20\n",
            "\u001b[1m60/60\u001b[0m \u001b[32m━━━━━━━━━━━━━━━━━━━━\u001b[0m\u001b[37m\u001b[0m \u001b[1m0s\u001b[0m 72ms/step - accuracy: 0.8258 - loss: 0.7742"
          ]
        },
        {
          "output_type": "stream",
          "name": "stderr",
          "text": [
            "WARNING:absl:You are saving your model as an HDF5 file via `model.save()` or `keras.saving.save_model(model)`. This file format is considered legacy. We recommend using instead the native Keras format, e.g. `model.save('my_model.keras')` or `keras.saving.save_model(model, 'my_model.keras')`. \n"
          ]
        },
        {
          "output_type": "stream",
          "name": "stdout",
          "text": [
            "\b\b\b\b\b\b\b\b\b\b\b\b\b\b\b\b\b\b\b\b\b\b\b\b\b\b\b\b\b\b\b\b\b\b\b\b\b\b\b\b\b\b\b\b\b\b\b\b\b\b\b\b\b\b\b\b\b\b\b\b\b\b\b\b\b\b\b\b\b\b\b\b\b\r\u001b[1m60/60\u001b[0m \u001b[32m━━━━━━━━━━━━━━━━━━━━\u001b[0m\u001b[37m\u001b[0m \u001b[1m6s\u001b[0m 99ms/step - accuracy: 0.8256 - loss: 0.7745 - val_accuracy: 0.7327 - val_loss: 1.0260\n",
            "Epoch 11/20\n",
            "\u001b[1m60/60\u001b[0m \u001b[32m━━━━━━━━━━━━━━━━━━━━\u001b[0m\u001b[37m\u001b[0m \u001b[1m0s\u001b[0m 72ms/step - accuracy: 0.7856 - loss: 0.8062"
          ]
        },
        {
          "output_type": "stream",
          "name": "stderr",
          "text": [
            "WARNING:absl:You are saving your model as an HDF5 file via `model.save()` or `keras.saving.save_model(model)`. This file format is considered legacy. We recommend using instead the native Keras format, e.g. `model.save('my_model.keras')` or `keras.saving.save_model(model, 'my_model.keras')`. \n"
          ]
        },
        {
          "output_type": "stream",
          "name": "stdout",
          "text": [
            "\b\b\b\b\b\b\b\b\b\b\b\b\b\b\b\b\b\b\b\b\b\b\b\b\b\b\b\b\b\b\b\b\b\b\b\b\b\b\b\b\b\b\b\b\b\b\b\b\b\b\b\b\b\b\b\b\b\b\b\b\b\b\b\b\b\b\b\b\b\b\b\b\b\r\u001b[1m60/60\u001b[0m \u001b[32m━━━━━━━━━━━━━━━━━━━━\u001b[0m\u001b[37m\u001b[0m \u001b[1m6s\u001b[0m 101ms/step - accuracy: 0.7860 - loss: 0.8055 - val_accuracy: 0.7178 - val_loss: 0.9946\n",
            "Epoch 12/20\n",
            "\u001b[1m60/60\u001b[0m \u001b[32m━━━━━━━━━━━━━━━━━━━━\u001b[0m\u001b[37m\u001b[0m \u001b[1m0s\u001b[0m 76ms/step - accuracy: 0.8604 - loss: 0.6735"
          ]
        },
        {
          "output_type": "stream",
          "name": "stderr",
          "text": [
            "WARNING:absl:You are saving your model as an HDF5 file via `model.save()` or `keras.saving.save_model(model)`. This file format is considered legacy. We recommend using instead the native Keras format, e.g. `model.save('my_model.keras')` or `keras.saving.save_model(model, 'my_model.keras')`. \n"
          ]
        },
        {
          "output_type": "stream",
          "name": "stdout",
          "text": [
            "\b\b\b\b\b\b\b\b\b\b\b\b\b\b\b\b\b\b\b\b\b\b\b\b\b\b\b\b\b\b\b\b\b\b\b\b\b\b\b\b\b\b\b\b\b\b\b\b\b\b\b\b\b\b\b\b\b\b\b\b\b\b\b\b\b\b\b\b\b\b\b\b\b\r\u001b[1m60/60\u001b[0m \u001b[32m━━━━━━━━━━━━━━━━━━━━\u001b[0m\u001b[37m\u001b[0m \u001b[1m6s\u001b[0m 104ms/step - accuracy: 0.8600 - loss: 0.6740 - val_accuracy: 0.7178 - val_loss: 0.9853\n",
            "Epoch 13/20\n",
            "\u001b[1m60/60\u001b[0m \u001b[32m━━━━━━━━━━━━━━━━━━━━\u001b[0m\u001b[37m\u001b[0m \u001b[1m0s\u001b[0m 73ms/step - accuracy: 0.8416 - loss: 0.6420"
          ]
        },
        {
          "output_type": "stream",
          "name": "stderr",
          "text": [
            "WARNING:absl:You are saving your model as an HDF5 file via `model.save()` or `keras.saving.save_model(model)`. This file format is considered legacy. We recommend using instead the native Keras format, e.g. `model.save('my_model.keras')` or `keras.saving.save_model(model, 'my_model.keras')`. \n"
          ]
        },
        {
          "output_type": "stream",
          "name": "stdout",
          "text": [
            "\b\b\b\b\b\b\b\b\b\b\b\b\b\b\b\b\b\b\b\b\b\b\b\b\b\b\b\b\b\b\b\b\b\b\b\b\b\b\b\b\b\b\b\b\b\b\b\b\b\b\b\b\b\b\b\b\b\b\b\b\b\b\b\b\b\b\b\b\b\b\b\b\b\r\u001b[1m60/60\u001b[0m \u001b[32m━━━━━━━━━━━━━━━━━━━━\u001b[0m\u001b[37m\u001b[0m \u001b[1m6s\u001b[0m 100ms/step - accuracy: 0.8414 - loss: 0.6424 - val_accuracy: 0.7327 - val_loss: 0.9634\n",
            "Epoch 14/20\n",
            "\u001b[1m60/60\u001b[0m \u001b[32m━━━━━━━━━━━━━━━━━━━━\u001b[0m\u001b[37m\u001b[0m \u001b[1m0s\u001b[0m 74ms/step - accuracy: 0.8431 - loss: 0.6509"
          ]
        },
        {
          "output_type": "stream",
          "name": "stderr",
          "text": [
            "WARNING:absl:You are saving your model as an HDF5 file via `model.save()` or `keras.saving.save_model(model)`. This file format is considered legacy. We recommend using instead the native Keras format, e.g. `model.save('my_model.keras')` or `keras.saving.save_model(model, 'my_model.keras')`. \n"
          ]
        },
        {
          "output_type": "stream",
          "name": "stdout",
          "text": [
            "\b\b\b\b\b\b\b\b\b\b\b\b\b\b\b\b\b\b\b\b\b\b\b\b\b\b\b\b\b\b\b\b\b\b\b\b\b\b\b\b\b\b\b\b\b\b\b\b\b\b\b\b\b\b\b\b\b\b\b\b\b\b\b\b\b\b\b\b\b\b\b\b\b\r\u001b[1m60/60\u001b[0m \u001b[32m━━━━━━━━━━━━━━━━━━━━\u001b[0m\u001b[37m\u001b[0m \u001b[1m6s\u001b[0m 100ms/step - accuracy: 0.8430 - loss: 0.6507 - val_accuracy: 0.7376 - val_loss: 0.9579\n",
            "Epoch 15/20\n",
            "\u001b[1m60/60\u001b[0m \u001b[32m━━━━━━━━━━━━━━━━━━━━\u001b[0m\u001b[37m\u001b[0m \u001b[1m0s\u001b[0m 73ms/step - accuracy: 0.8454 - loss: 0.6461"
          ]
        },
        {
          "output_type": "stream",
          "name": "stderr",
          "text": [
            "WARNING:absl:You are saving your model as an HDF5 file via `model.save()` or `keras.saving.save_model(model)`. This file format is considered legacy. We recommend using instead the native Keras format, e.g. `model.save('my_model.keras')` or `keras.saving.save_model(model, 'my_model.keras')`. \n"
          ]
        },
        {
          "output_type": "stream",
          "name": "stdout",
          "text": [
            "\b\b\b\b\b\b\b\b\b\b\b\b\b\b\b\b\b\b\b\b\b\b\b\b\b\b\b\b\b\b\b\b\b\b\b\b\b\b\b\b\b\b\b\b\b\b\b\b\b\b\b\b\b\b\b\b\b\b\b\b\b\b\b\b\b\b\b\b\b\b\b\b\b\r\u001b[1m60/60\u001b[0m \u001b[32m━━━━━━━━━━━━━━━━━━━━\u001b[0m\u001b[37m\u001b[0m \u001b[1m6s\u001b[0m 100ms/step - accuracy: 0.8456 - loss: 0.6457 - val_accuracy: 0.7376 - val_loss: 0.9315\n",
            "Epoch 16/20\n",
            "\u001b[1m60/60\u001b[0m \u001b[32m━━━━━━━━━━━━━━━━━━━━\u001b[0m\u001b[37m\u001b[0m \u001b[1m0s\u001b[0m 72ms/step - accuracy: 0.8722 - loss: 0.5751"
          ]
        },
        {
          "output_type": "stream",
          "name": "stderr",
          "text": [
            "WARNING:absl:You are saving your model as an HDF5 file via `model.save()` or `keras.saving.save_model(model)`. This file format is considered legacy. We recommend using instead the native Keras format, e.g. `model.save('my_model.keras')` or `keras.saving.save_model(model, 'my_model.keras')`. \n"
          ]
        },
        {
          "output_type": "stream",
          "name": "stdout",
          "text": [
            "\b\b\b\b\b\b\b\b\b\b\b\b\b\b\b\b\b\b\b\b\b\b\b\b\b\b\b\b\b\b\b\b\b\b\b\b\b\b\b\b\b\b\b\b\b\b\b\b\b\b\b\b\b\b\b\b\b\b\b\b\b\b\b\b\b\b\b\b\b\b\b\b\b\r\u001b[1m60/60\u001b[0m \u001b[32m━━━━━━━━━━━━━━━━━━━━\u001b[0m\u001b[37m\u001b[0m \u001b[1m6s\u001b[0m 99ms/step - accuracy: 0.8720 - loss: 0.5754 - val_accuracy: 0.7178 - val_loss: 0.9276\n",
            "Epoch 17/20\n",
            "\u001b[1m60/60\u001b[0m \u001b[32m━━━━━━━━━━━━━━━━━━━━\u001b[0m\u001b[37m\u001b[0m \u001b[1m0s\u001b[0m 73ms/step - accuracy: 0.8824 - loss: 0.5269"
          ]
        },
        {
          "output_type": "stream",
          "name": "stderr",
          "text": [
            "WARNING:absl:You are saving your model as an HDF5 file via `model.save()` or `keras.saving.save_model(model)`. This file format is considered legacy. We recommend using instead the native Keras format, e.g. `model.save('my_model.keras')` or `keras.saving.save_model(model, 'my_model.keras')`. \n"
          ]
        },
        {
          "output_type": "stream",
          "name": "stdout",
          "text": [
            "\b\b\b\b\b\b\b\b\b\b\b\b\b\b\b\b\b\b\b\b\b\b\b\b\b\b\b\b\b\b\b\b\b\b\b\b\b\b\b\b\b\b\b\b\b\b\b\b\b\b\b\b\b\b\b\b\b\b\b\b\b\b\b\b\b\b\b\b\b\b\b\b\b\r\u001b[1m60/60\u001b[0m \u001b[32m━━━━━━━━━━━━━━━━━━━━\u001b[0m\u001b[37m\u001b[0m \u001b[1m6s\u001b[0m 101ms/step - accuracy: 0.8823 - loss: 0.5272 - val_accuracy: 0.7376 - val_loss: 0.9058\n",
            "Epoch 18/20\n",
            "\u001b[1m60/60\u001b[0m \u001b[32m━━━━━━━━━━━━━━━━━━━━\u001b[0m\u001b[37m\u001b[0m \u001b[1m0s\u001b[0m 72ms/step - accuracy: 0.8671 - loss: 0.5508"
          ]
        },
        {
          "output_type": "stream",
          "name": "stderr",
          "text": [
            "WARNING:absl:You are saving your model as an HDF5 file via `model.save()` or `keras.saving.save_model(model)`. This file format is considered legacy. We recommend using instead the native Keras format, e.g. `model.save('my_model.keras')` or `keras.saving.save_model(model, 'my_model.keras')`. \n"
          ]
        },
        {
          "output_type": "stream",
          "name": "stdout",
          "text": [
            "\b\b\b\b\b\b\b\b\b\b\b\b\b\b\b\b\b\b\b\b\b\b\b\b\b\b\b\b\b\b\b\b\b\b\b\b\b\b\b\b\b\b\b\b\b\b\b\b\b\b\b\b\b\b\b\b\b\b\b\b\b\b\b\b\b\b\b\b\b\b\b\b\b\r\u001b[1m60/60\u001b[0m \u001b[32m━━━━━━━━━━━━━━━━━━━━\u001b[0m\u001b[37m\u001b[0m \u001b[1m6s\u001b[0m 101ms/step - accuracy: 0.8671 - loss: 0.5504 - val_accuracy: 0.7475 - val_loss: 0.8976\n",
            "Epoch 19/20\n",
            "\u001b[1m60/60\u001b[0m \u001b[32m━━━━━━━━━━━━━━━━━━━━\u001b[0m\u001b[37m\u001b[0m \u001b[1m0s\u001b[0m 71ms/step - accuracy: 0.8946 - loss: 0.4753"
          ]
        },
        {
          "output_type": "stream",
          "name": "stderr",
          "text": [
            "WARNING:absl:You are saving your model as an HDF5 file via `model.save()` or `keras.saving.save_model(model)`. This file format is considered legacy. We recommend using instead the native Keras format, e.g. `model.save('my_model.keras')` or `keras.saving.save_model(model, 'my_model.keras')`. \n"
          ]
        },
        {
          "output_type": "stream",
          "name": "stdout",
          "text": [
            "\b\b\b\b\b\b\b\b\b\b\b\b\b\b\b\b\b\b\b\b\b\b\b\b\b\b\b\b\b\b\b\b\b\b\b\b\b\b\b\b\b\b\b\b\b\b\b\b\b\b\b\b\b\b\b\b\b\b\b\b\b\b\b\b\b\b\b\b\b\b\b\b\b\r\u001b[1m60/60\u001b[0m \u001b[32m━━━━━━━━━━━━━━━━━━━━\u001b[0m\u001b[37m\u001b[0m \u001b[1m6s\u001b[0m 97ms/step - accuracy: 0.8944 - loss: 0.4756 - val_accuracy: 0.7525 - val_loss: 0.8826\n",
            "Epoch 20/20\n",
            "\u001b[1m60/60\u001b[0m \u001b[32m━━━━━━━━━━━━━━━━━━━━\u001b[0m\u001b[37m\u001b[0m \u001b[1m5s\u001b[0m 89ms/step - accuracy: 0.8870 - loss: 0.4725 - val_accuracy: 0.7525 - val_loss: 0.8955\n"
          ]
        },
        {
          "output_type": "execute_result",
          "data": {
            "text/plain": [
              "<keras.src.callbacks.history.History at 0x7ec3d43ee690>"
            ]
          },
          "metadata": {},
          "execution_count": 102
        }
      ]
    },
    {
      "cell_type": "code",
      "source": [
        "Y_pred = model.predict(X_test_seq)\n",
        "Y_pred_labels = np.argmax(Y_pred, axis=1)\n",
        "Y_true_labels = np.argmax(Y_test_seq, axis=1)\n",
        "\n",
        "from sklearn.metrics import classification_report, confusion_matrix\n",
        "\n",
        "existing_classes = np.unique(Y_true_labels)\n",
        "existing_class_names = [new_class_names[i] for i in existing_classes]\n",
        "\n",
        "print(classification_report(Y_true_labels, Y_pred_labels, target_names=existing_class_names))"
      ],
      "metadata": {
        "colab": {
          "base_uri": "https://localhost:8080/"
        },
        "id": "g6j_eMl0rspQ",
        "outputId": "d10195c1-fdab-455b-e9ab-d8050f347a60"
      },
      "execution_count": 106,
      "outputs": [
        {
          "output_type": "stream",
          "name": "stdout",
          "text": [
            "\u001b[1m7/7\u001b[0m \u001b[32m━━━━━━━━━━━━━━━━━━━━\u001b[0m\u001b[37m\u001b[0m \u001b[1m1s\u001b[0m 100ms/step\n",
            "              precision    recall  f1-score   support\n",
            "\n",
            "     bending       0.89      0.57      0.70        14\n",
            "  carry_item       0.93      1.00      0.97        14\n",
            "    crawling       0.93      0.87      0.90        15\n",
            " crouch_down       0.68      0.92      0.78        37\n",
            "      fallen       0.85      0.79      0.81        14\n",
            "   gathering       0.81      0.87      0.84        15\n",
            "housekeeping       1.00      0.80      0.89        15\n",
            "    kneeling       0.92      0.73      0.81        15\n",
            "  lying_down       1.00      0.87      0.93        15\n",
            "     sitting       1.00      1.00      1.00        14\n",
            "    sleeping       0.45      0.50      0.48        20\n",
            "    standing       0.83      0.71      0.77        14\n",
            "\n",
            "    accuracy                           0.81       202\n",
            "   macro avg       0.86      0.80      0.82       202\n",
            "weighted avg       0.83      0.81      0.81       202\n",
            "\n"
          ]
        }
      ]
    },
    {
      "cell_type": "markdown",
      "source": [
        "*   No noisy labels (empty_room, occlusion, unidentified)\n",
        "*   Strong ResNet50 transfer learning backbone.\n",
        "*   Balanced minority classes through augmentation\n",
        "\n",
        "\n",
        "\n"
      ],
      "metadata": {
        "id": "usgcBrLor0oy"
      }
    },
    {
      "cell_type": "markdown",
      "source": [
        "Learning Points in Data Preparation and Model Training (including using VGG19 vs Transfer Learning Resnet50, model performance before and after applying data augmentation, observation e.g. imbalance data, skewed data, between hot encoded and numerical data)"
      ],
      "metadata": {
        "id": "dvXWYYPMsAhA"
      }
    },
    {
      "cell_type": "markdown",
      "metadata": {
        "id": "4yKhoHvNkWNb"
      },
      "source": [
        "# Upload to GCS"
      ]
    },
    {
      "cell_type": "code",
      "execution_count": 107,
      "metadata": {
        "id": "_H6DSkpPkTAe",
        "colab": {
          "base_uri": "https://localhost:8080/"
        },
        "outputId": "6eaece77-b5ff-439c-e32b-dfb497dff99d"
      },
      "outputs": [
        {
          "output_type": "stream",
          "name": "stdout",
          "text": [
            "Notebook pushed to GCS.\n"
          ]
        }
      ],
      "source": [
        "!cp \"/content/drive/MyDrive/Colab Notebooks/P2-06_CNN2-vid.ipynb\" \"/content/P2-06_CNN2-vid.ipynb\"\n",
        "\n",
        "client = storage.Client(project='p2-anomaly')\n",
        "bucket = client.bucket('p2-anomaly')\n",
        "notebook_blob = bucket.blob('notebooks/P2-06_CNN2-vid.ipynb')\n",
        "notebook_blob.upload_from_filename('/content/P2-06_CNN2-vid.ipynb')\n",
        "print(\"Notebook pushed to GCS.\")"
      ]
    },
    {
      "cell_type": "code",
      "execution_count": 108,
      "metadata": {
        "id": "rlRnVRvokSgJ",
        "colab": {
          "base_uri": "https://localhost:8080/"
        },
        "outputId": "ac23386a-8643-487e-e47b-6d2d406260ee"
      },
      "outputs": [
        {
          "output_type": "stream",
          "name": "stdout",
          "text": [
            "[NbConvertApp] Converting notebook /content/P2-06_CNN2-vid.ipynb to script\n",
            "[NbConvertApp] Writing 16562 bytes to /content/P2-06_CNN2-vid.txt\n",
            "Script uploaded to GCS.\n"
          ]
        }
      ],
      "source": [
        "!jupyter nbconvert --to script \"/content/P2-06_CNN2-vid.ipynb\" --output \"/content/P2-06_CNN2-vid\"\n",
        "!mv /content/P2-06_CNN2-vid.txt /content/P2-06_CNN2-vid.py\n",
        "local_script_path = '/content/P2-06_CNN2-vid.py'\n",
        "gcs_script_path = 'scripts/P2-06_CNN2-vid.py'\n",
        "\n",
        "# Upload to GCS\n",
        "blob = bucket.blob(gcs_script_path)\n",
        "blob.upload_from_filename(local_script_path)\n",
        "\n",
        "print(\"Script uploaded to GCS.\")"
      ]
    }
  ],
  "metadata": {
    "colab": {
      "machine_shape": "hm",
      "provenance": [],
      "gpuType": "A100",
      "authorship_tag": "ABX9TyMVU5ufQ5SQ/y9cQWj6OxAQ",
      "include_colab_link": true
    },
    "kernelspec": {
      "display_name": "Python 3",
      "name": "python3"
    },
    "language_info": {
      "name": "python"
    },
    "accelerator": "GPU"
  },
  "nbformat": 4,
  "nbformat_minor": 0
}