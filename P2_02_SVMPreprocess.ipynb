{
  "cells": [
    {
      "cell_type": "markdown",
      "metadata": {
        "id": "view-in-github",
        "colab_type": "text"
      },
      "source": [
        "<a href=\"https://colab.research.google.com/github/net39/ML-anomaly-detection/blob/main/P2_02_SVMPreprocess.ipynb\" target=\"_parent\"><img src=\"https://colab.research.google.com/assets/colab-badge.svg\" alt=\"Open In Colab\"/></a>"
      ]
    },
    {
      "cell_type": "markdown",
      "metadata": {
        "id": "AOxcDHMNA1aS"
      },
      "source": [
        "# Load libraries and access to GCS"
      ]
    },
    {
      "cell_type": "code",
      "execution_count": 1,
      "metadata": {
        "id": "kh-Nc4Q-AsPi"
      },
      "outputs": [],
      "source": [
        "!pip install google-cloud-storage --quiet\n",
        "!pip install opencv-python-headless --quiet\n",
        "!pip install joblib --quiet\n"
      ]
    },
    {
      "cell_type": "code",
      "execution_count": 2,
      "metadata": {
        "id": "HYSV-YVpWsjR"
      },
      "outputs": [],
      "source": [
        "import os\n",
        "import cv2\n",
        "import numpy as np\n",
        "import pandas as pd\n",
        "from io import StringIO\n",
        "from sklearn.preprocessing import LabelEncoder\n",
        "import joblib\n",
        "from tqdm import tqdm"
      ]
    },
    {
      "cell_type": "code",
      "execution_count": 3,
      "metadata": {
        "id": "QB4kDj9-BG6F"
      },
      "outputs": [],
      "source": [
        "from google.colab import auth\n",
        "auth.authenticate_user()"
      ]
    },
    {
      "cell_type": "code",
      "execution_count": 4,
      "metadata": {
        "colab": {
          "base_uri": "https://localhost:8080/",
          "height": 91
        },
        "id": "9m-CKF21OlT0",
        "outputId": "02fedd76-fe9c-45f5-dd38-94848d3a6679"
      },
      "outputs": [
        {
          "output_type": "stream",
          "name": "stdout",
          "text": [
            "Mounted at /content/drive\n"
          ]
        },
        {
          "output_type": "display_data",
          "data": {
            "text/plain": [
              "<IPython.core.display.HTML object>"
            ],
            "text/html": [
              "\n",
              "     <input type=\"file\" id=\"files-2aabdbb9-d35a-4338-a00e-ebeb9426ed51\" name=\"files[]\" multiple disabled\n",
              "        style=\"border:none\" />\n",
              "     <output id=\"result-2aabdbb9-d35a-4338-a00e-ebeb9426ed51\">\n",
              "      Upload widget is only available when the cell has been executed in the\n",
              "      current browser session. Please rerun this cell to enable.\n",
              "      </output>\n",
              "      <script>// Copyright 2017 Google LLC\n",
              "//\n",
              "// Licensed under the Apache License, Version 2.0 (the \"License\");\n",
              "// you may not use this file except in compliance with the License.\n",
              "// You may obtain a copy of the License at\n",
              "//\n",
              "//      http://www.apache.org/licenses/LICENSE-2.0\n",
              "//\n",
              "// Unless required by applicable law or agreed to in writing, software\n",
              "// distributed under the License is distributed on an \"AS IS\" BASIS,\n",
              "// WITHOUT WARRANTIES OR CONDITIONS OF ANY KIND, either express or implied.\n",
              "// See the License for the specific language governing permissions and\n",
              "// limitations under the License.\n",
              "\n",
              "/**\n",
              " * @fileoverview Helpers for google.colab Python module.\n",
              " */\n",
              "(function(scope) {\n",
              "function span(text, styleAttributes = {}) {\n",
              "  const element = document.createElement('span');\n",
              "  element.textContent = text;\n",
              "  for (const key of Object.keys(styleAttributes)) {\n",
              "    element.style[key] = styleAttributes[key];\n",
              "  }\n",
              "  return element;\n",
              "}\n",
              "\n",
              "// Max number of bytes which will be uploaded at a time.\n",
              "const MAX_PAYLOAD_SIZE = 100 * 1024;\n",
              "\n",
              "function _uploadFiles(inputId, outputId) {\n",
              "  const steps = uploadFilesStep(inputId, outputId);\n",
              "  const outputElement = document.getElementById(outputId);\n",
              "  // Cache steps on the outputElement to make it available for the next call\n",
              "  // to uploadFilesContinue from Python.\n",
              "  outputElement.steps = steps;\n",
              "\n",
              "  return _uploadFilesContinue(outputId);\n",
              "}\n",
              "\n",
              "// This is roughly an async generator (not supported in the browser yet),\n",
              "// where there are multiple asynchronous steps and the Python side is going\n",
              "// to poll for completion of each step.\n",
              "// This uses a Promise to block the python side on completion of each step,\n",
              "// then passes the result of the previous step as the input to the next step.\n",
              "function _uploadFilesContinue(outputId) {\n",
              "  const outputElement = document.getElementById(outputId);\n",
              "  const steps = outputElement.steps;\n",
              "\n",
              "  const next = steps.next(outputElement.lastPromiseValue);\n",
              "  return Promise.resolve(next.value.promise).then((value) => {\n",
              "    // Cache the last promise value to make it available to the next\n",
              "    // step of the generator.\n",
              "    outputElement.lastPromiseValue = value;\n",
              "    return next.value.response;\n",
              "  });\n",
              "}\n",
              "\n",
              "/**\n",
              " * Generator function which is called between each async step of the upload\n",
              " * process.\n",
              " * @param {string} inputId Element ID of the input file picker element.\n",
              " * @param {string} outputId Element ID of the output display.\n",
              " * @return {!Iterable<!Object>} Iterable of next steps.\n",
              " */\n",
              "function* uploadFilesStep(inputId, outputId) {\n",
              "  const inputElement = document.getElementById(inputId);\n",
              "  inputElement.disabled = false;\n",
              "\n",
              "  const outputElement = document.getElementById(outputId);\n",
              "  outputElement.innerHTML = '';\n",
              "\n",
              "  const pickedPromise = new Promise((resolve) => {\n",
              "    inputElement.addEventListener('change', (e) => {\n",
              "      resolve(e.target.files);\n",
              "    });\n",
              "  });\n",
              "\n",
              "  const cancel = document.createElement('button');\n",
              "  inputElement.parentElement.appendChild(cancel);\n",
              "  cancel.textContent = 'Cancel upload';\n",
              "  const cancelPromise = new Promise((resolve) => {\n",
              "    cancel.onclick = () => {\n",
              "      resolve(null);\n",
              "    };\n",
              "  });\n",
              "\n",
              "  // Wait for the user to pick the files.\n",
              "  const files = yield {\n",
              "    promise: Promise.race([pickedPromise, cancelPromise]),\n",
              "    response: {\n",
              "      action: 'starting',\n",
              "    }\n",
              "  };\n",
              "\n",
              "  cancel.remove();\n",
              "\n",
              "  // Disable the input element since further picks are not allowed.\n",
              "  inputElement.disabled = true;\n",
              "\n",
              "  if (!files) {\n",
              "    return {\n",
              "      response: {\n",
              "        action: 'complete',\n",
              "      }\n",
              "    };\n",
              "  }\n",
              "\n",
              "  for (const file of files) {\n",
              "    const li = document.createElement('li');\n",
              "    li.append(span(file.name, {fontWeight: 'bold'}));\n",
              "    li.append(span(\n",
              "        `(${file.type || 'n/a'}) - ${file.size} bytes, ` +\n",
              "        `last modified: ${\n",
              "            file.lastModifiedDate ? file.lastModifiedDate.toLocaleDateString() :\n",
              "                                    'n/a'} - `));\n",
              "    const percent = span('0% done');\n",
              "    li.appendChild(percent);\n",
              "\n",
              "    outputElement.appendChild(li);\n",
              "\n",
              "    const fileDataPromise = new Promise((resolve) => {\n",
              "      const reader = new FileReader();\n",
              "      reader.onload = (e) => {\n",
              "        resolve(e.target.result);\n",
              "      };\n",
              "      reader.readAsArrayBuffer(file);\n",
              "    });\n",
              "    // Wait for the data to be ready.\n",
              "    let fileData = yield {\n",
              "      promise: fileDataPromise,\n",
              "      response: {\n",
              "        action: 'continue',\n",
              "      }\n",
              "    };\n",
              "\n",
              "    // Use a chunked sending to avoid message size limits. See b/62115660.\n",
              "    let position = 0;\n",
              "    do {\n",
              "      const length = Math.min(fileData.byteLength - position, MAX_PAYLOAD_SIZE);\n",
              "      const chunk = new Uint8Array(fileData, position, length);\n",
              "      position += length;\n",
              "\n",
              "      const base64 = btoa(String.fromCharCode.apply(null, chunk));\n",
              "      yield {\n",
              "        response: {\n",
              "          action: 'append',\n",
              "          file: file.name,\n",
              "          data: base64,\n",
              "        },\n",
              "      };\n",
              "\n",
              "      let percentDone = fileData.byteLength === 0 ?\n",
              "          100 :\n",
              "          Math.round((position / fileData.byteLength) * 100);\n",
              "      percent.textContent = `${percentDone}% done`;\n",
              "\n",
              "    } while (position < fileData.byteLength);\n",
              "  }\n",
              "\n",
              "  // All done.\n",
              "  yield {\n",
              "    response: {\n",
              "      action: 'complete',\n",
              "    }\n",
              "  };\n",
              "}\n",
              "\n",
              "scope.google = scope.google || {};\n",
              "scope.google.colab = scope.google.colab || {};\n",
              "scope.google.colab._files = {\n",
              "  _uploadFiles,\n",
              "  _uploadFilesContinue,\n",
              "};\n",
              "})(self);\n",
              "</script> "
            ]
          },
          "metadata": {}
        },
        {
          "output_type": "stream",
          "name": "stdout",
          "text": [
            "Saving p2-anomaly-c4545180e308.json to p2-anomaly-c4545180e308.json\n"
          ]
        }
      ],
      "source": [
        "from google.colab import drive\n",
        "drive.mount('/content/drive')\n",
        "\n",
        "#key upload\n",
        "from google.colab import files\n",
        "files.upload()\n",
        "\n",
        "from google.cloud import storage\n",
        "import os\n",
        "\n",
        "# Set path to your uploaded key\n",
        "os.environ['GOOGLE_APPLICATION_CREDENTIALS'] = '/content/p2-anomaly-c4545180e308.json'\n",
        "\n",
        "storage_client = storage.Client()\n",
        "bucket_name = 'p2-anomaly'\n",
        "bucket = storage_client.bucket(bucket_name)"
      ]
    },
    {
      "cell_type": "markdown",
      "metadata": {
        "id": "geG_it18BSIc"
      },
      "source": [
        "# Resize - Train & Test images"
      ]
    },
    {
      "cell_type": "code",
      "execution_count": 5,
      "metadata": {
        "id": "qTLIEzpqDBEx"
      },
      "outputs": [],
      "source": [
        "# Image target size (for both SVM + later CNN consistency)\n",
        "IMG_HEIGHT = 224\n",
        "IMG_WIDTH = 224\n",
        "IMG_CHANNELS = 3"
      ]
    },
    {
      "cell_type": "code",
      "execution_count": 6,
      "metadata": {
        "id": "vnq1gCdiDFz3"
      },
      "outputs": [],
      "source": [
        "# Load Training_set.csv\n",
        "train_blob = bucket.blob('raw/images/Training_set.csv')\n",
        "train_content = train_blob.download_as_text()\n",
        "train_df = pd.read_csv(StringIO(train_content))\n",
        "\n",
        "# Load Testing_set.csv\n",
        "test_blob = bucket.blob('raw/images/Testing_set.csv')\n",
        "test_content = test_blob.download_as_text()\n",
        "test_df = pd.read_csv(StringIO(test_content))"
      ]
    },
    {
      "cell_type": "code",
      "execution_count": 7,
      "metadata": {
        "id": "IRE4byVEBVG4"
      },
      "outputs": [],
      "source": [
        "# Label Encoder\n",
        "label_encoder = LabelEncoder()\n",
        "train_df['encoded_label'] = label_encoder.fit_transform(train_df['label'])\n",
        "\n",
        "joblib.dump(label_encoder, 'label_encoder_svm.joblib')\n",
        "\n",
        "encoder_blob = bucket.blob('processed/labels/label_encoder_svm.joblib')\n",
        "encoder_blob.upload_from_filename('label_encoder_svm.joblib')"
      ]
    },
    {
      "cell_type": "code",
      "execution_count": 8,
      "metadata": {
        "id": "QkXM_TBSDcn5"
      },
      "outputs": [],
      "source": [
        "# Image preprocess definition\n",
        "def preprocess_image_gcs(blob_path):\n",
        "    try:\n",
        "        img_blob = bucket.blob(blob_path)\n",
        "        img_bytes = img_blob.download_as_bytes()\n",
        "        img_arr = cv2.imdecode(np.frombuffer(img_bytes, np.uint8), cv2.IMREAD_COLOR)\n",
        "        img_resized = cv2.resize(img_arr, (IMG_WIDTH, IMG_HEIGHT))\n",
        "        img_flattened = img_resized.flatten()\n",
        "        return img_flattened\n",
        "    except Exception as e:\n",
        "        print(f\"Failed to process {blob_path}: {e}\")\n",
        "        return None\n"
      ]
    },
    {
      "cell_type": "code",
      "execution_count": 9,
      "metadata": {
        "colab": {
          "base_uri": "https://localhost:8080/"
        },
        "id": "f0Yo0FC5DgQa",
        "outputId": "55edd637-48ce-46b5-ce22-7399a2436506"
      },
      "outputs": [
        {
          "output_type": "stream",
          "name": "stderr",
          "text": [
            "100%|██████████| 12600/12600 [13:30<00:00, 15.54it/s]\n"
          ]
        }
      ],
      "source": [
        "# Preprocess Train images\n",
        "X_train = []\n",
        "y_train = []\n",
        "\n",
        "for idx, row in tqdm(train_df.iterrows(), total=len(train_df)):\n",
        "    img_path = f'raw/images/train/{row[\"filename\"]}'\n",
        "    img_flat = preprocess_image_gcs(img_path)\n",
        "    if img_flat is not None:\n",
        "        X_train.append(img_flat)\n",
        "        y_train.append(row['encoded_label'])\n",
        "\n",
        "# Convert to numpy arrays\n",
        "X_train = np.array(X_train)\n",
        "y_train = np.array(y_train)\n",
        "\n",
        "# Save locally\n",
        "np.save('X_train_svm.npy', X_train)\n",
        "np.save('y_train_svm.npy', y_train)"
      ]
    },
    {
      "cell_type": "code",
      "execution_count": 10,
      "metadata": {
        "id": "lRPWkhJzE7T8"
      },
      "outputs": [],
      "source": [
        "# Upload to GCS\n",
        "train_X_blob = bucket.blob('processed/resized_images/X_train_svm.npy')\n",
        "train_X_blob.upload_from_filename('X_train_svm.npy')\n",
        "\n",
        "train_y_blob = bucket.blob('processed/resized_images/y_train_svm.npy')\n",
        "train_y_blob.upload_from_filename('y_train_svm.npy')"
      ]
    },
    {
      "cell_type": "code",
      "execution_count": 11,
      "metadata": {
        "id": "1DghEJh2D2Gs",
        "colab": {
          "base_uri": "https://localhost:8080/"
        },
        "outputId": "420981aa-8b30-4085-e6ad-176716a76c9f"
      },
      "outputs": [
        {
          "output_type": "stream",
          "name": "stderr",
          "text": [
            "100%|██████████| 5400/5400 [05:43<00:00, 15.70it/s]\n"
          ]
        }
      ],
      "source": [
        "# Preprocess Test images\n",
        "\n",
        "X_test = []\n",
        "filenames_test = []\n",
        "\n",
        "for idx, row in tqdm(test_df.iterrows(), total=len(test_df)):\n",
        "    img_path = f'raw/images/test/{row[\"filename\"]}'\n",
        "    img_flat = preprocess_image_gcs(img_path)\n",
        "    if img_flat is not None:\n",
        "        X_test.append(img_flat)\n",
        "        filenames_test.append(row['filename'])\n",
        "\n",
        "# Convert to numpy arrays\n",
        "X_test = np.array(X_test)\n",
        "\n",
        "# Save locally\n",
        "np.save('X_test_svm.npy', X_test)\n",
        "pd.DataFrame({'filename': filenames_test}).to_csv('test_filenames.csv', index=False)\n"
      ]
    },
    {
      "cell_type": "code",
      "execution_count": 12,
      "metadata": {
        "id": "aNIVWkAyE0_b"
      },
      "outputs": [],
      "source": [
        "# Upload to GCS\n",
        "test_X_blob = bucket.blob('processed/resized_images/X_test_svm.npy')\n",
        "test_X_blob.upload_from_filename('X_test_svm.npy')\n",
        "\n",
        "test_filenames_blob = bucket.blob('processed/resized_images/test_filenames.csv')\n",
        "test_filenames_blob.upload_from_filename('test_filenames.csv')"
      ]
    },
    {
      "cell_type": "markdown",
      "metadata": {
        "id": "ZAohOVfDITge"
      },
      "source": [
        "# Upload Notebook to GCS"
      ]
    },
    {
      "cell_type": "code",
      "execution_count": 14,
      "metadata": {
        "id": "0RSwHUj9IbJb",
        "colab": {
          "base_uri": "https://localhost:8080/"
        },
        "outputId": "1a157ca1-cca5-4d9e-fe14-1fafce98e923"
      },
      "outputs": [
        {
          "output_type": "stream",
          "name": "stdout",
          "text": [
            "Notebook pushed to GCS.\n"
          ]
        }
      ],
      "source": [
        "!cp \"/content/drive/MyDrive/Colab Notebooks/P2-02_SVMPreprocess.ipynb\" \"/content/P2-02_SVMPreprocess.ipynb\"\n",
        "\n",
        "client = storage.Client(project='p2-anomaly')\n",
        "bucket = client.bucket('p2-anomaly')\n",
        "notebook_blob = bucket.blob('notebooks/P2-02_SVMPreprocess.ipynb')\n",
        "notebook_blob.upload_from_filename('/content/P2-02_SVMPreprocess.ipynb')\n",
        "print(\"Notebook pushed to GCS.\")"
      ]
    },
    {
      "cell_type": "code",
      "source": [
        "!jupyter nbconvert --to script \"/content/P2-02_SVMPreprocess.ipynb\" --output \"/content/P2-02_SVMPreprocess\"\n",
        "!mv /content/P2-02_SVMPreprocess.txt /content/P2-02_SVMPreprocess.py\n",
        "local_script_path = '/content/P2-02_SVMPreprocess.py'\n",
        "gcs_script_path = '/content/P2-02_SVMPreprocess.py'\n",
        "\n",
        "# Upload to GCS\n",
        "blob = bucket.blob(gcs_script_path)\n",
        "blob.upload_from_filename(local_script_path)\n",
        "\n",
        "print(\"Script uploaded to GCS.\")"
      ],
      "metadata": {
        "colab": {
          "base_uri": "https://localhost:8080/"
        },
        "id": "C_uhAwaKgDb4",
        "outputId": "478fe239-1cb0-4fc0-83dd-cced608150b5"
      },
      "execution_count": 16,
      "outputs": [
        {
          "output_type": "stream",
          "name": "stdout",
          "text": [
            "[NbConvertApp] Converting notebook /content/P2-02_SVMPreprocess.ipynb to script\n",
            "[NbConvertApp] Writing 4385 bytes to /content/P2-02_SVMPreprocess.txt\n",
            "Script uploaded to GCS.\n"
          ]
        }
      ]
    }
  ],
  "metadata": {
    "accelerator": "GPU",
    "colab": {
      "gpuType": "T4",
      "machine_shape": "hm",
      "provenance": [],
      "authorship_tag": "ABX9TyOQXKnSVRgSO2RA9hUk2qBs",
      "include_colab_link": true
    },
    "kernelspec": {
      "display_name": "Python 3",
      "name": "python3"
    },
    "language_info": {
      "name": "python"
    }
  },
  "nbformat": 4,
  "nbformat_minor": 0
}